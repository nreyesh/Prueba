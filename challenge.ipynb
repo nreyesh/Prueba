{
 "cells": [
  {
   "cell_type": "code",
   "execution_count": 1,
   "metadata": {},
   "outputs": [],
   "source": [
    "import numpy as np\n",
    "import pandas as pd\n",
    "import matplotlib.pyplot as plt"
   ]
  },
  {
   "cell_type": "code",
   "execution_count": 18,
   "metadata": {},
   "outputs": [
    {
     "name": "stdout",
     "output_type": "stream",
     "text": [
      "challenge.ipynb  data  README.md\r\n"
     ]
    }
   ],
   "source": [
    "%pwd\n",
    "!ls"
   ]
  },
  {
   "cell_type": "markdown",
   "metadata": {},
   "source": [
    "# Getting familiar with the Data"
   ]
  },
  {
   "cell_type": "markdown",
   "metadata": {},
   "source": [
    "## Order Products"
   ]
  },
  {
   "cell_type": "code",
   "execution_count": 2,
   "metadata": {},
   "outputs": [
    {
     "data": {
      "text/html": [
       "<div>\n",
       "<style scoped>\n",
       "    .dataframe tbody tr th:only-of-type {\n",
       "        vertical-align: middle;\n",
       "    }\n",
       "\n",
       "    .dataframe tbody tr th {\n",
       "        vertical-align: top;\n",
       "    }\n",
       "\n",
       "    .dataframe thead th {\n",
       "        text-align: right;\n",
       "    }\n",
       "</style>\n",
       "<table border=\"1\" class=\"dataframe\">\n",
       "  <thead>\n",
       "    <tr style=\"text-align: right;\">\n",
       "      <th></th>\n",
       "      <th>order_id</th>\n",
       "      <th>product_id</th>\n",
       "      <th>quantity</th>\n",
       "      <th>buy_unit</th>\n",
       "    </tr>\n",
       "  </thead>\n",
       "  <tbody>\n",
       "    <tr>\n",
       "      <th>0</th>\n",
       "      <td>47099653730fb1b76537fc10ad876255</td>\n",
       "      <td>c1244453d731c77416cb4766e3bd76cb</td>\n",
       "      <td>1.0</td>\n",
       "      <td>UN</td>\n",
       "    </tr>\n",
       "    <tr>\n",
       "      <th>1</th>\n",
       "      <td>689d8866915acf87e851c2591a23a82f</td>\n",
       "      <td>43cc2b100bec640fe563cd16f2db669f</td>\n",
       "      <td>1.0</td>\n",
       "      <td>KG</td>\n",
       "    </tr>\n",
       "    <tr>\n",
       "      <th>2</th>\n",
       "      <td>f26d16bf6f38c9e31d0be877f4013a9e</td>\n",
       "      <td>b8f880759d014134e272d881d49989a2</td>\n",
       "      <td>1.0</td>\n",
       "      <td>UN</td>\n",
       "    </tr>\n",
       "    <tr>\n",
       "      <th>3</th>\n",
       "      <td>161ccc896835ab41761b0e726becb6b1</td>\n",
       "      <td>dbc062b9bef805d27a6f4bea7edfe1f1</td>\n",
       "      <td>1.0</td>\n",
       "      <td>UN</td>\n",
       "    </tr>\n",
       "    <tr>\n",
       "      <th>4</th>\n",
       "      <td>4713deca10bb5db98fae150b52d61fc0</td>\n",
       "      <td>93a060f269bb569398921100f84c519a</td>\n",
       "      <td>2.0</td>\n",
       "      <td>UN</td>\n",
       "    </tr>\n",
       "  </tbody>\n",
       "</table>\n",
       "</div>"
      ],
      "text/plain": [
       "                           order_id                        product_id  \\\n",
       "0  47099653730fb1b76537fc10ad876255  c1244453d731c77416cb4766e3bd76cb   \n",
       "1  689d8866915acf87e851c2591a23a82f  43cc2b100bec640fe563cd16f2db669f   \n",
       "2  f26d16bf6f38c9e31d0be877f4013a9e  b8f880759d014134e272d881d49989a2   \n",
       "3  161ccc896835ab41761b0e726becb6b1  dbc062b9bef805d27a6f4bea7edfe1f1   \n",
       "4  4713deca10bb5db98fae150b52d61fc0  93a060f269bb569398921100f84c519a   \n",
       "\n",
       "   quantity buy_unit  \n",
       "0       1.0       UN  \n",
       "1       1.0       KG  \n",
       "2       1.0       UN  \n",
       "3       1.0       UN  \n",
       "4       2.0       UN  "
      ]
     },
     "execution_count": 2,
     "metadata": {},
     "output_type": "execute_result"
    }
   ],
   "source": [
    "orders_p = pd.read_csv('data/order_products.csv')\n",
    "orders_p.head()"
   ]
  },
  {
   "cell_type": "code",
   "execution_count": 3,
   "metadata": {},
   "outputs": [
    {
     "name": "stdout",
     "output_type": "stream",
     "text": [
      "Numero total de ordenes: 9978 \n",
      " \n",
      "\n",
      "<class 'pandas.core.frame.DataFrame'>\n",
      "RangeIndex: 198500 entries, 0 to 198499\n",
      "Data columns (total 4 columns):\n",
      " #   Column      Non-Null Count   Dtype  \n",
      "---  ------      --------------   -----  \n",
      " 0   order_id    198500 non-null  object \n",
      " 1   product_id  198500 non-null  object \n",
      " 2   quantity    198500 non-null  float64\n",
      " 3   buy_unit    198500 non-null  object \n",
      "dtypes: float64(1), object(3)\n",
      "memory usage: 6.1+ MB\n"
     ]
    }
   ],
   "source": [
    "print('Numero total de ordenes:', len(orders_p.order_id.unique().tolist()),'\\n','\\n')\n",
    "orders_p.info()"
   ]
  },
  {
   "cell_type": "raw",
   "metadata": {},
   "source": [
    "las ordenes se pueden caracterizan en dos grandes grupos. Por un lado tenemos aquellas que son unidades, por ejemplo 2 tarros de atun, un frasco de mayonesa, etc. Por el otro, tenemos aquellos productos que deben pesarse, como lo son la fruta (principalmente). Construiremos nuestro primer feature en base a la orden, el cual tendrá dos columnas, total de productos comprados (# unidades) y total de kilos comprados (# de kilos). \n",
    "\n",
    "Es de esperar que, una orden que contiene solo kilos o kilo y unidades, tome mas tiempo que solo unidades."
   ]
  },
  {
   "cell_type": "code",
   "execution_count": 4,
   "metadata": {},
   "outputs": [
    {
     "data": {
      "text/html": [
       "<div>\n",
       "<style scoped>\n",
       "    .dataframe tbody tr th:only-of-type {\n",
       "        vertical-align: middle;\n",
       "    }\n",
       "\n",
       "    .dataframe tbody tr th {\n",
       "        vertical-align: top;\n",
       "    }\n",
       "\n",
       "    .dataframe thead th {\n",
       "        text-align: right;\n",
       "    }\n",
       "</style>\n",
       "<table border=\"1\" class=\"dataframe\">\n",
       "  <thead>\n",
       "    <tr style=\"text-align: right;\">\n",
       "      <th>buy_unit</th>\n",
       "      <th>order_id</th>\n",
       "      <th>KG</th>\n",
       "      <th>UN</th>\n",
       "    </tr>\n",
       "  </thead>\n",
       "  <tbody>\n",
       "    <tr>\n",
       "      <th>0</th>\n",
       "      <td>0004a3841c1eeb6c6e77585a941c21e0</td>\n",
       "      <td>0.000</td>\n",
       "      <td>8.0</td>\n",
       "    </tr>\n",
       "    <tr>\n",
       "      <th>1</th>\n",
       "      <td>0005a6ecbbde1e8d273f5577bcff2c9c</td>\n",
       "      <td>0.000</td>\n",
       "      <td>2.0</td>\n",
       "    </tr>\n",
       "    <tr>\n",
       "      <th>2</th>\n",
       "      <td>0007baeb6700fc203be2d1f1e11222d7</td>\n",
       "      <td>0.000</td>\n",
       "      <td>39.0</td>\n",
       "    </tr>\n",
       "    <tr>\n",
       "      <th>3</th>\n",
       "      <td>0012195a6a8ca9ec308a3010eeea8ebc</td>\n",
       "      <td>0.000</td>\n",
       "      <td>13.0</td>\n",
       "    </tr>\n",
       "    <tr>\n",
       "      <th>4</th>\n",
       "      <td>0013011fa72b498b9feb84f4e7104980</td>\n",
       "      <td>1.636</td>\n",
       "      <td>63.0</td>\n",
       "    </tr>\n",
       "    <tr>\n",
       "      <th>...</th>\n",
       "      <td>...</td>\n",
       "      <td>...</td>\n",
       "      <td>...</td>\n",
       "    </tr>\n",
       "    <tr>\n",
       "      <th>9973</th>\n",
       "      <td>ffc3234b2e009e5422a4b5e24961c038</td>\n",
       "      <td>5.100</td>\n",
       "      <td>13.0</td>\n",
       "    </tr>\n",
       "    <tr>\n",
       "      <th>9974</th>\n",
       "      <td>ffcc66cd4d1056b67523a39ff07d7700</td>\n",
       "      <td>4.015</td>\n",
       "      <td>68.0</td>\n",
       "    </tr>\n",
       "    <tr>\n",
       "      <th>9975</th>\n",
       "      <td>ffcf270be4bba33349ce827c70fe9439</td>\n",
       "      <td>0.332</td>\n",
       "      <td>52.0</td>\n",
       "    </tr>\n",
       "    <tr>\n",
       "      <th>9976</th>\n",
       "      <td>ffdbc12cfcf7101a517a7eb7e1776c43</td>\n",
       "      <td>3.602</td>\n",
       "      <td>36.0</td>\n",
       "    </tr>\n",
       "    <tr>\n",
       "      <th>9977</th>\n",
       "      <td>ffe8fa40d7e51f9860b62b5e9d798a57</td>\n",
       "      <td>0.000</td>\n",
       "      <td>29.0</td>\n",
       "    </tr>\n",
       "  </tbody>\n",
       "</table>\n",
       "<p>9978 rows × 3 columns</p>\n",
       "</div>"
      ],
      "text/plain": [
       "buy_unit                          order_id     KG    UN\n",
       "0         0004a3841c1eeb6c6e77585a941c21e0  0.000   8.0\n",
       "1         0005a6ecbbde1e8d273f5577bcff2c9c  0.000   2.0\n",
       "2         0007baeb6700fc203be2d1f1e11222d7  0.000  39.0\n",
       "3         0012195a6a8ca9ec308a3010eeea8ebc  0.000  13.0\n",
       "4         0013011fa72b498b9feb84f4e7104980  1.636  63.0\n",
       "...                                    ...    ...   ...\n",
       "9973      ffc3234b2e009e5422a4b5e24961c038  5.100  13.0\n",
       "9974      ffcc66cd4d1056b67523a39ff07d7700  4.015  68.0\n",
       "9975      ffcf270be4bba33349ce827c70fe9439  0.332  52.0\n",
       "9976      ffdbc12cfcf7101a517a7eb7e1776c43  3.602  36.0\n",
       "9977      ffe8fa40d7e51f9860b62b5e9d798a57  0.000  29.0\n",
       "\n",
       "[9978 rows x 3 columns]"
      ]
     },
     "execution_count": 4,
     "metadata": {},
     "output_type": "execute_result"
    }
   ],
   "source": [
    "orders_p2 = pd.pivot_table(orders_p, values='quantity', index=['order_id'],\n",
    "                    columns=['buy_unit'], aggfunc=np.sum)\n",
    "orders_p2 = orders_p2.fillna(0).reset_index()\n",
    "orders_p2"
   ]
  },
  {
   "cell_type": "markdown",
   "metadata": {},
   "source": [
    "## Shopper"
   ]
  },
  {
   "cell_type": "code",
   "execution_count": 8,
   "metadata": {
    "scrolled": true
   },
   "outputs": [
    {
     "data": {
      "text/html": [
       "<div>\n",
       "<style scoped>\n",
       "    .dataframe tbody tr th:only-of-type {\n",
       "        vertical-align: middle;\n",
       "    }\n",
       "\n",
       "    .dataframe tbody tr th {\n",
       "        vertical-align: top;\n",
       "    }\n",
       "\n",
       "    .dataframe thead th {\n",
       "        text-align: right;\n",
       "    }\n",
       "</style>\n",
       "<table border=\"1\" class=\"dataframe\">\n",
       "  <thead>\n",
       "    <tr style=\"text-align: right;\">\n",
       "      <th></th>\n",
       "      <th>shopper_id</th>\n",
       "      <th>seniority</th>\n",
       "      <th>found_rate</th>\n",
       "      <th>picking_speed</th>\n",
       "      <th>accepted_rate</th>\n",
       "      <th>rating</th>\n",
       "    </tr>\n",
       "  </thead>\n",
       "  <tbody>\n",
       "    <tr>\n",
       "      <th>0</th>\n",
       "      <td>1fc20b0bdf697ac13dd6a15cbd2fe60a</td>\n",
       "      <td>41dc7c9e385c4d2b6c1f7836973951bf</td>\n",
       "      <td>0.8606</td>\n",
       "      <td>1.94</td>\n",
       "      <td>1.00</td>\n",
       "      <td>4.87</td>\n",
       "    </tr>\n",
       "    <tr>\n",
       "      <th>1</th>\n",
       "      <td>e1c679ac73a69c01981fdd3c5ab8beda</td>\n",
       "      <td>6c90661e6d2c7579f5ce337c3391dbb9</td>\n",
       "      <td>0.8446</td>\n",
       "      <td>1.23</td>\n",
       "      <td>0.92</td>\n",
       "      <td>4.92</td>\n",
       "    </tr>\n",
       "    <tr>\n",
       "      <th>2</th>\n",
       "      <td>09d369c66ca86ebeffacb133410c5ee1</td>\n",
       "      <td>6c90661e6d2c7579f5ce337c3391dbb9</td>\n",
       "      <td>0.8559</td>\n",
       "      <td>1.56</td>\n",
       "      <td>1.00</td>\n",
       "      <td>4.88</td>\n",
       "    </tr>\n",
       "    <tr>\n",
       "      <th>3</th>\n",
       "      <td>db39866e62b95bb04ebb1e470f2d1347</td>\n",
       "      <td>50e13ee63f086c2fe84229348bc91b5b</td>\n",
       "      <td>NaN</td>\n",
       "      <td>2.41</td>\n",
       "      <td>NaN</td>\n",
       "      <td>NaN</td>\n",
       "    </tr>\n",
       "    <tr>\n",
       "      <th>4</th>\n",
       "      <td>8efbc238660053b19f00ca431144fdae</td>\n",
       "      <td>6c90661e6d2c7579f5ce337c3391dbb9</td>\n",
       "      <td>0.8770</td>\n",
       "      <td>1.31</td>\n",
       "      <td>0.92</td>\n",
       "      <td>4.88</td>\n",
       "    </tr>\n",
       "  </tbody>\n",
       "</table>\n",
       "</div>"
      ],
      "text/plain": [
       "                         shopper_id                         seniority  \\\n",
       "0  1fc20b0bdf697ac13dd6a15cbd2fe60a  41dc7c9e385c4d2b6c1f7836973951bf   \n",
       "1  e1c679ac73a69c01981fdd3c5ab8beda  6c90661e6d2c7579f5ce337c3391dbb9   \n",
       "2  09d369c66ca86ebeffacb133410c5ee1  6c90661e6d2c7579f5ce337c3391dbb9   \n",
       "3  db39866e62b95bb04ebb1e470f2d1347  50e13ee63f086c2fe84229348bc91b5b   \n",
       "4  8efbc238660053b19f00ca431144fdae  6c90661e6d2c7579f5ce337c3391dbb9   \n",
       "\n",
       "   found_rate  picking_speed  accepted_rate  rating  \n",
       "0      0.8606           1.94           1.00    4.87  \n",
       "1      0.8446           1.23           0.92    4.92  \n",
       "2      0.8559           1.56           1.00    4.88  \n",
       "3         NaN           2.41            NaN     NaN  \n",
       "4      0.8770           1.31           0.92    4.88  "
      ]
     },
     "execution_count": 8,
     "metadata": {},
     "output_type": "execute_result"
    }
   ],
   "source": [
    "shopper = pd.read_csv('data/shoppers.csv')\n",
    "shopper.head()"
   ]
  },
  {
   "cell_type": "code",
   "execution_count": 7,
   "metadata": {},
   "outputs": [
    {
     "name": "stdout",
     "output_type": "stream",
     "text": [
      "Numero total de shoppers: 2864 \n",
      " \n",
      "\n",
      "<class 'pandas.core.frame.DataFrame'>\n",
      "RangeIndex: 2864 entries, 0 to 2863\n",
      "Data columns (total 6 columns):\n",
      " #   Column         Non-Null Count  Dtype  \n",
      "---  ------         --------------  -----  \n",
      " 0   shopper_id     2864 non-null   object \n",
      " 1   seniority      2864 non-null   object \n",
      " 2   found_rate     2763 non-null   float64\n",
      " 3   picking_speed  2864 non-null   float64\n",
      " 4   accepted_rate  2837 non-null   float64\n",
      " 5   rating         2780 non-null   float64\n",
      "dtypes: float64(4), object(2)\n",
      "memory usage: 134.4+ KB\n"
     ]
    }
   ],
   "source": [
    "print('Numero total de shoppers:', len(shopper.shopper_id.unique().tolist()),'\\n','\\n')\n",
    "shopper.info()"
   ]
  },
  {
   "cell_type": "code",
   "execution_count": 8,
   "metadata": {},
   "outputs": [
    {
     "data": {
      "text/plain": [
       "found_rate       101\n",
       "rating            84\n",
       "accepted_rate     27\n",
       "picking_speed      0\n",
       "seniority          0\n",
       "shopper_id         0\n",
       "dtype: int64"
      ]
     },
     "execution_count": 8,
     "metadata": {},
     "output_type": "execute_result"
    }
   ],
   "source": [
    "## observamos que variables tienen NaN\n",
    "shopper.isnull().sum().sort_values(ascending=False)"
   ]
  },
  {
   "cell_type": "raw",
   "metadata": {},
   "source": [
    "por simplicidad, cambiaremos el nombre del seniority a uno mas manejable"
   ]
  },
  {
   "cell_type": "code",
   "execution_count": 9,
   "metadata": {},
   "outputs": [
    {
     "data": {
      "text/html": [
       "<div>\n",
       "<style scoped>\n",
       "    .dataframe tbody tr th:only-of-type {\n",
       "        vertical-align: middle;\n",
       "    }\n",
       "\n",
       "    .dataframe tbody tr th {\n",
       "        vertical-align: top;\n",
       "    }\n",
       "\n",
       "    .dataframe thead th {\n",
       "        text-align: right;\n",
       "    }\n",
       "</style>\n",
       "<table border=\"1\" class=\"dataframe\">\n",
       "  <thead>\n",
       "    <tr style=\"text-align: right;\">\n",
       "      <th></th>\n",
       "      <th>shopper_id</th>\n",
       "      <th>seniority</th>\n",
       "      <th>found_rate</th>\n",
       "      <th>picking_speed</th>\n",
       "      <th>accepted_rate</th>\n",
       "      <th>rating</th>\n",
       "      <th>new_seniority</th>\n",
       "    </tr>\n",
       "  </thead>\n",
       "  <tbody>\n",
       "    <tr>\n",
       "      <th>0</th>\n",
       "      <td>1fc20b0bdf697ac13dd6a15cbd2fe60a</td>\n",
       "      <td>41dc7c9e385c4d2b6c1f7836973951bf</td>\n",
       "      <td>0.8606</td>\n",
       "      <td>1.94</td>\n",
       "      <td>1.00</td>\n",
       "      <td>4.87</td>\n",
       "      <td>1</td>\n",
       "    </tr>\n",
       "    <tr>\n",
       "      <th>1</th>\n",
       "      <td>e1c679ac73a69c01981fdd3c5ab8beda</td>\n",
       "      <td>6c90661e6d2c7579f5ce337c3391dbb9</td>\n",
       "      <td>0.8446</td>\n",
       "      <td>1.23</td>\n",
       "      <td>0.92</td>\n",
       "      <td>4.92</td>\n",
       "      <td>3</td>\n",
       "    </tr>\n",
       "    <tr>\n",
       "      <th>2</th>\n",
       "      <td>09d369c66ca86ebeffacb133410c5ee1</td>\n",
       "      <td>6c90661e6d2c7579f5ce337c3391dbb9</td>\n",
       "      <td>0.8559</td>\n",
       "      <td>1.56</td>\n",
       "      <td>1.00</td>\n",
       "      <td>4.88</td>\n",
       "      <td>3</td>\n",
       "    </tr>\n",
       "    <tr>\n",
       "      <th>3</th>\n",
       "      <td>db39866e62b95bb04ebb1e470f2d1347</td>\n",
       "      <td>50e13ee63f086c2fe84229348bc91b5b</td>\n",
       "      <td>NaN</td>\n",
       "      <td>2.41</td>\n",
       "      <td>NaN</td>\n",
       "      <td>NaN</td>\n",
       "      <td>2</td>\n",
       "    </tr>\n",
       "    <tr>\n",
       "      <th>4</th>\n",
       "      <td>8efbc238660053b19f00ca431144fdae</td>\n",
       "      <td>6c90661e6d2c7579f5ce337c3391dbb9</td>\n",
       "      <td>0.8770</td>\n",
       "      <td>1.31</td>\n",
       "      <td>0.92</td>\n",
       "      <td>4.88</td>\n",
       "      <td>3</td>\n",
       "    </tr>\n",
       "    <tr>\n",
       "      <th>...</th>\n",
       "      <td>...</td>\n",
       "      <td>...</td>\n",
       "      <td>...</td>\n",
       "      <td>...</td>\n",
       "      <td>...</td>\n",
       "      <td>...</td>\n",
       "      <td>...</td>\n",
       "    </tr>\n",
       "    <tr>\n",
       "      <th>2859</th>\n",
       "      <td>da24da1311f7913f6d2d29d8238b439c</td>\n",
       "      <td>6c90661e6d2c7579f5ce337c3391dbb9</td>\n",
       "      <td>0.8951</td>\n",
       "      <td>1.53</td>\n",
       "      <td>0.88</td>\n",
       "      <td>4.80</td>\n",
       "      <td>3</td>\n",
       "    </tr>\n",
       "    <tr>\n",
       "      <th>2860</th>\n",
       "      <td>cf95eda5ffc1d4b9586de2ca08ab40f8</td>\n",
       "      <td>50e13ee63f086c2fe84229348bc91b5b</td>\n",
       "      <td>0.8695</td>\n",
       "      <td>3.00</td>\n",
       "      <td>0.56</td>\n",
       "      <td>5.00</td>\n",
       "      <td>2</td>\n",
       "    </tr>\n",
       "    <tr>\n",
       "      <th>2861</th>\n",
       "      <td>e8482e3ad8bc820ec756566a472b84b1</td>\n",
       "      <td>6c90661e6d2c7579f5ce337c3391dbb9</td>\n",
       "      <td>0.9152</td>\n",
       "      <td>1.47</td>\n",
       "      <td>0.88</td>\n",
       "      <td>4.96</td>\n",
       "      <td>3</td>\n",
       "    </tr>\n",
       "    <tr>\n",
       "      <th>2862</th>\n",
       "      <td>a55a3765a02530a97eb9af7aee327486</td>\n",
       "      <td>6c90661e6d2c7579f5ce337c3391dbb9</td>\n",
       "      <td>0.8695</td>\n",
       "      <td>1.20</td>\n",
       "      <td>0.96</td>\n",
       "      <td>4.80</td>\n",
       "      <td>3</td>\n",
       "    </tr>\n",
       "    <tr>\n",
       "      <th>2863</th>\n",
       "      <td>ed3b2414f4b604298fb86adaaae2ee46</td>\n",
       "      <td>50e13ee63f086c2fe84229348bc91b5b</td>\n",
       "      <td>0.8416</td>\n",
       "      <td>1.48</td>\n",
       "      <td>0.60</td>\n",
       "      <td>4.95</td>\n",
       "      <td>2</td>\n",
       "    </tr>\n",
       "  </tbody>\n",
       "</table>\n",
       "<p>2864 rows × 7 columns</p>\n",
       "</div>"
      ],
      "text/plain": [
       "                            shopper_id                         seniority  \\\n",
       "0     1fc20b0bdf697ac13dd6a15cbd2fe60a  41dc7c9e385c4d2b6c1f7836973951bf   \n",
       "1     e1c679ac73a69c01981fdd3c5ab8beda  6c90661e6d2c7579f5ce337c3391dbb9   \n",
       "2     09d369c66ca86ebeffacb133410c5ee1  6c90661e6d2c7579f5ce337c3391dbb9   \n",
       "3     db39866e62b95bb04ebb1e470f2d1347  50e13ee63f086c2fe84229348bc91b5b   \n",
       "4     8efbc238660053b19f00ca431144fdae  6c90661e6d2c7579f5ce337c3391dbb9   \n",
       "...                                ...                               ...   \n",
       "2859  da24da1311f7913f6d2d29d8238b439c  6c90661e6d2c7579f5ce337c3391dbb9   \n",
       "2860  cf95eda5ffc1d4b9586de2ca08ab40f8  50e13ee63f086c2fe84229348bc91b5b   \n",
       "2861  e8482e3ad8bc820ec756566a472b84b1  6c90661e6d2c7579f5ce337c3391dbb9   \n",
       "2862  a55a3765a02530a97eb9af7aee327486  6c90661e6d2c7579f5ce337c3391dbb9   \n",
       "2863  ed3b2414f4b604298fb86adaaae2ee46  50e13ee63f086c2fe84229348bc91b5b   \n",
       "\n",
       "      found_rate  picking_speed  accepted_rate  rating  new_seniority  \n",
       "0         0.8606           1.94           1.00    4.87              1  \n",
       "1         0.8446           1.23           0.92    4.92              3  \n",
       "2         0.8559           1.56           1.00    4.88              3  \n",
       "3            NaN           2.41            NaN     NaN              2  \n",
       "4         0.8770           1.31           0.92    4.88              3  \n",
       "...          ...            ...            ...     ...            ...  \n",
       "2859      0.8951           1.53           0.88    4.80              3  \n",
       "2860      0.8695           3.00           0.56    5.00              2  \n",
       "2861      0.9152           1.47           0.88    4.96              3  \n",
       "2862      0.8695           1.20           0.96    4.80              3  \n",
       "2863      0.8416           1.48           0.60    4.95              2  \n",
       "\n",
       "[2864 rows x 7 columns]"
      ]
     },
     "execution_count": 9,
     "metadata": {},
     "output_type": "execute_result"
    }
   ],
   "source": [
    "new_seniority = {'41dc7c9e385c4d2b6c1f7836973951bf': 1, \n",
    "                '50e13ee63f086c2fe84229348bc91b5b': 2,\n",
    "                '6c90661e6d2c7579f5ce337c3391dbb9': 3,\n",
    "                'bb29b8d0d196b5db5a5350e5e3ae2b1f': 4}\n",
    "\n",
    "shopper['new_seniority'] = shopper.seniority.map(new_seniority)\n",
    "shopper"
   ]
  },
  {
   "cell_type": "code",
   "execution_count": 10,
   "metadata": {},
   "outputs": [
    {
     "data": {
      "text/html": [
       "<div>\n",
       "<style scoped>\n",
       "    .dataframe tbody tr th:only-of-type {\n",
       "        vertical-align: middle;\n",
       "    }\n",
       "\n",
       "    .dataframe tbody tr th {\n",
       "        vertical-align: top;\n",
       "    }\n",
       "\n",
       "    .dataframe thead th {\n",
       "        text-align: right;\n",
       "    }\n",
       "</style>\n",
       "<table border=\"1\" class=\"dataframe\">\n",
       "  <thead>\n",
       "    <tr style=\"text-align: right;\">\n",
       "      <th></th>\n",
       "      <th>new_seniority</th>\n",
       "      <th>shopper_id</th>\n",
       "      <th>seniority</th>\n",
       "      <th>found_rate</th>\n",
       "      <th>picking_speed</th>\n",
       "      <th>accepted_rate</th>\n",
       "      <th>rating</th>\n",
       "    </tr>\n",
       "  </thead>\n",
       "  <tbody>\n",
       "    <tr>\n",
       "      <th>0</th>\n",
       "      <td>1</td>\n",
       "      <td>440</td>\n",
       "      <td>440</td>\n",
       "      <td>432</td>\n",
       "      <td>440</td>\n",
       "      <td>440</td>\n",
       "      <td>438</td>\n",
       "    </tr>\n",
       "    <tr>\n",
       "      <th>1</th>\n",
       "      <td>2</td>\n",
       "      <td>719</td>\n",
       "      <td>719</td>\n",
       "      <td>680</td>\n",
       "      <td>719</td>\n",
       "      <td>714</td>\n",
       "      <td>686</td>\n",
       "    </tr>\n",
       "    <tr>\n",
       "      <th>2</th>\n",
       "      <td>3</td>\n",
       "      <td>1643</td>\n",
       "      <td>1643</td>\n",
       "      <td>1643</td>\n",
       "      <td>1643</td>\n",
       "      <td>1643</td>\n",
       "      <td>1642</td>\n",
       "    </tr>\n",
       "    <tr>\n",
       "      <th>3</th>\n",
       "      <td>4</td>\n",
       "      <td>62</td>\n",
       "      <td>62</td>\n",
       "      <td>8</td>\n",
       "      <td>62</td>\n",
       "      <td>40</td>\n",
       "      <td>14</td>\n",
       "    </tr>\n",
       "  </tbody>\n",
       "</table>\n",
       "</div>"
      ],
      "text/plain": [
       "   new_seniority  shopper_id  seniority  found_rate  picking_speed  \\\n",
       "0              1         440        440         432            440   \n",
       "1              2         719        719         680            719   \n",
       "2              3        1643       1643        1643           1643   \n",
       "3              4          62         62           8             62   \n",
       "\n",
       "   accepted_rate  rating  \n",
       "0            440     438  \n",
       "1            714     686  \n",
       "2           1643    1642  \n",
       "3             40      14  "
      ]
     },
     "execution_count": 10,
     "metadata": {},
     "output_type": "execute_result"
    }
   ],
   "source": [
    "shopper.groupby('new_seniority').count().reset_index()"
   ]
  },
  {
   "cell_type": "raw",
   "metadata": {},
   "source": [
    "Analizaremos la distribucion de frecuencia, por las variables found_rate, accepted_rate\n",
    "y rating para determinar la forma de manejar los NaN"
   ]
  },
  {
   "cell_type": "code",
   "execution_count": 114,
   "metadata": {},
   "outputs": [
    {
     "data": {
      "text/plain": [
       "Text(0.5, 1.0, 'Seniority 4')"
      ]
     },
     "execution_count": 114,
     "metadata": {},
     "output_type": "execute_result"
    },
    {
     "data": {
      "image/png": "[encoded data removed]",
      "text/plain": [
       "<Figure size 1440x360 with 5 Axes>"
      ]
     },
     "metadata": {
      "needs_background": "light"
     },
     "output_type": "display_data"
    }
   ],
   "source": [
    "## Found rate distribution\n",
    "fig, axes = plt.subplots(1, 5,figsize=(20,5))\n",
    "shopper.hist('found_rate',bins=10,ax= axes[0])\n",
    "shopper[shopper['new_seniority']==1].hist('found_rate',bins=10,ax= axes[1])\n",
    "shopper[shopper['new_seniority']==2].hist('found_rate',bins=10,ax= axes[2])\n",
    "shopper[shopper['new_seniority']==3].hist('found_rate',bins=10,ax= axes[3])\n",
    "shopper[shopper['new_seniority']==4].hist('found_rate',bins=10,ax= axes[4])\n",
    "axes[0].set_title('Total')\n",
    "axes[1].set_title('Seniority 1')\n",
    "axes[2].set_title('Seniority 2')\n",
    "axes[3].set_title('Seniority 3')\n",
    "axes[4].set_title('Seniority 4')\n"
   ]
  },
  {
   "cell_type": "code",
   "execution_count": 116,
   "metadata": {},
   "outputs": [
    {
     "data": {
      "text/plain": [
       "Text(0.5, 1.0, 'Seniority 4')"
      ]
     },
     "execution_count": 116,
     "metadata": {},
     "output_type": "execute_result"
    },
    {
     "data": {
      "image/png": "[encoded data removed]",
      "text/plain": [
       "<Figure size 1440x360 with 5 Axes>"
      ]
     },
     "metadata": {
      "needs_background": "light"
     },
     "output_type": "display_data"
    }
   ],
   "source": [
    "## acceptance rate\n",
    "## Found rate distribution\n",
    "fig, axes = plt.subplots(1, 5,figsize=(20,5))\n",
    "shopper.hist('accepted_rate',bins=10,ax= axes[0])\n",
    "shopper[shopper['new_seniority']==1].hist('accepted_rate',bins=10,ax= axes[1])\n",
    "shopper[shopper['new_seniority']==2].hist('accepted_rate',bins=10,ax= axes[2])\n",
    "shopper[shopper['new_seniority']==3].hist('accepted_rate',bins=10,ax= axes[3])\n",
    "shopper[shopper['new_seniority']==4].hist('accepted_rate',bins=10,ax= axes[4])\n",
    "axes[0].set_title('Total')\n",
    "axes[1].set_title('Seniority 1')\n",
    "axes[2].set_title('Seniority 2')\n",
    "axes[3].set_title('Seniority 3')\n",
    "axes[4].set_title('Seniority 4')\n"
   ]
  },
  {
   "cell_type": "code",
   "execution_count": 117,
   "metadata": {},
   "outputs": [
    {
     "data": {
      "text/plain": [
       "Text(0.5, 1.0, 'Seniority 4')"
      ]
     },
     "execution_count": 117,
     "metadata": {},
     "output_type": "execute_result"
    },
    {
     "data": {
      "image/png": "[encoded data removed]",
      "text/plain": [
       "<Figure size 1440x360 with 5 Axes>"
      ]
     },
     "metadata": {
      "needs_background": "light"
     },
     "output_type": "display_data"
    }
   ],
   "source": [
    "## Found rate distribution\n",
    "fig, axes = plt.subplots(1, 5,figsize=(20,5))\n",
    "shopper.hist('picking_speed',bins=10,ax= axes[0])\n",
    "shopper[shopper['new_seniority']==1].hist('picking_speed',bins=10,ax= axes[1])\n",
    "shopper[shopper['new_seniority']==2].hist('picking_speed',bins=10,ax= axes[2])\n",
    "shopper[shopper['new_seniority']==3].hist('picking_speed',bins=10,ax= axes[3])\n",
    "shopper[shopper['new_seniority']==4].hist('picking_speed',bins=10,ax= axes[4])\n",
    "axes[0].set_title('Total')\n",
    "axes[1].set_title('Seniority 1')\n",
    "axes[2].set_title('Seniority 2')\n",
    "axes[3].set_title('Seniority 3')\n",
    "axes[4].set_title('Seniority 4')"
   ]
  },
  {
   "cell_type": "code",
   "execution_count": 118,
   "metadata": {},
   "outputs": [
    {
     "data": {
      "text/plain": [
       "Text(0.5, 1.0, 'Seniority 4')"
      ]
     },
     "execution_count": 118,
     "metadata": {},
     "output_type": "execute_result"
    },
    {
     "data": {
      "image/png": "[encoded data removed]",
      "text/plain": [
       "<Figure size 1440x360 with 5 Axes>"
      ]
     },
     "metadata": {
      "needs_background": "light"
     },
     "output_type": "display_data"
    }
   ],
   "source": [
    "## Found rate distribution\n",
    "fig, axes = plt.subplots(1, 5,figsize=(20,5))\n",
    "shopper.hist('rating',bins=10,ax= axes[0])\n",
    "shopper[shopper['new_seniority']==1].hist('rating',bins=10,ax= axes[1])\n",
    "shopper[shopper['new_seniority']==2].hist('rating',bins=10,ax= axes[2])\n",
    "shopper[shopper['new_seniority']==3].hist('rating',bins=10,ax= axes[3])\n",
    "shopper[shopper['new_seniority']==4].hist('rating',bins=10,ax= axes[4])\n",
    "axes[0].set_title('Total')\n",
    "axes[1].set_title('Seniority 1')\n",
    "axes[2].set_title('Seniority 2')\n",
    "axes[3].set_title('Seniority 3')\n",
    "axes[4].set_title('Seniority 4')"
   ]
  },
  {
   "cell_type": "code",
   "execution_count": 11,
   "metadata": {},
   "outputs": [
    {
     "data": {
      "text/html": [
       "<div>\n",
       "<style scoped>\n",
       "    .dataframe tbody tr th:only-of-type {\n",
       "        vertical-align: middle;\n",
       "    }\n",
       "\n",
       "    .dataframe tbody tr th {\n",
       "        vertical-align: top;\n",
       "    }\n",
       "\n",
       "    .dataframe thead th {\n",
       "        text-align: right;\n",
       "    }\n",
       "</style>\n",
       "<table border=\"1\" class=\"dataframe\">\n",
       "  <thead>\n",
       "    <tr style=\"text-align: right;\">\n",
       "      <th></th>\n",
       "      <th>new_seniority</th>\n",
       "      <th>shopper_id</th>\n",
       "      <th>seniority</th>\n",
       "      <th>found_rate</th>\n",
       "      <th>picking_speed</th>\n",
       "      <th>accepted_rate</th>\n",
       "      <th>rating</th>\n",
       "      <th>found_rate_nan</th>\n",
       "      <th>accepted_rate_nan</th>\n",
       "      <th>rating_nan</th>\n",
       "    </tr>\n",
       "  </thead>\n",
       "  <tbody>\n",
       "    <tr>\n",
       "      <th>0</th>\n",
       "      <td>1</td>\n",
       "      <td>440</td>\n",
       "      <td>440</td>\n",
       "      <td>432</td>\n",
       "      <td>440</td>\n",
       "      <td>440</td>\n",
       "      <td>438</td>\n",
       "      <td>8</td>\n",
       "      <td>0</td>\n",
       "      <td>2</td>\n",
       "    </tr>\n",
       "    <tr>\n",
       "      <th>1</th>\n",
       "      <td>2</td>\n",
       "      <td>719</td>\n",
       "      <td>719</td>\n",
       "      <td>680</td>\n",
       "      <td>719</td>\n",
       "      <td>714</td>\n",
       "      <td>686</td>\n",
       "      <td>39</td>\n",
       "      <td>5</td>\n",
       "      <td>33</td>\n",
       "    </tr>\n",
       "    <tr>\n",
       "      <th>2</th>\n",
       "      <td>3</td>\n",
       "      <td>1643</td>\n",
       "      <td>1643</td>\n",
       "      <td>1643</td>\n",
       "      <td>1643</td>\n",
       "      <td>1643</td>\n",
       "      <td>1642</td>\n",
       "      <td>0</td>\n",
       "      <td>0</td>\n",
       "      <td>1</td>\n",
       "    </tr>\n",
       "    <tr>\n",
       "      <th>3</th>\n",
       "      <td>4</td>\n",
       "      <td>62</td>\n",
       "      <td>62</td>\n",
       "      <td>8</td>\n",
       "      <td>62</td>\n",
       "      <td>40</td>\n",
       "      <td>14</td>\n",
       "      <td>54</td>\n",
       "      <td>22</td>\n",
       "      <td>48</td>\n",
       "    </tr>\n",
       "  </tbody>\n",
       "</table>\n",
       "</div>"
      ],
      "text/plain": [
       "   new_seniority  shopper_id  seniority  found_rate  picking_speed  \\\n",
       "0              1         440        440         432            440   \n",
       "1              2         719        719         680            719   \n",
       "2              3        1643       1643        1643           1643   \n",
       "3              4          62         62           8             62   \n",
       "\n",
       "   accepted_rate  rating  found_rate_nan  accepted_rate_nan  rating_nan  \n",
       "0            440     438               8                  0           2  \n",
       "1            714     686              39                  5          33  \n",
       "2           1643    1642               0                  0           1  \n",
       "3             40      14              54                 22          48  "
      ]
     },
     "execution_count": 11,
     "metadata": {},
     "output_type": "execute_result"
    }
   ],
   "source": [
    "## NAN per column and shopper seniority\n",
    "a = shopper.groupby('new_seniority').count().reset_index()\n",
    "a['found_rate_nan'] = a['shopper_id'] - a['found_rate']\n",
    "a['accepted_rate_nan'] = a.shopper_id - a.accepted_rate\n",
    "a['rating_nan'] = a.shopper_id - a.rating\n",
    "a\n",
    "#sns.barplot(x='seniority', y='shopper_id', data=a)"
   ]
  },
  {
   "cell_type": "code",
   "execution_count": 12,
   "metadata": {},
   "outputs": [
    {
     "data": {
      "text/html": [
       "<div>\n",
       "<style scoped>\n",
       "    .dataframe tbody tr th:only-of-type {\n",
       "        vertical-align: middle;\n",
       "    }\n",
       "\n",
       "    .dataframe tbody tr th {\n",
       "        vertical-align: top;\n",
       "    }\n",
       "\n",
       "    .dataframe thead tr th {\n",
       "        text-align: left;\n",
       "    }\n",
       "</style>\n",
       "<table border=\"1\" class=\"dataframe\">\n",
       "  <thead>\n",
       "    <tr>\n",
       "      <th></th>\n",
       "      <th>new_seniority</th>\n",
       "      <th>shopper_id</th>\n",
       "      <th colspan=\"3\" halign=\"left\">found_rate</th>\n",
       "      <th colspan=\"3\" halign=\"left\">picking_speed</th>\n",
       "      <th colspan=\"3\" halign=\"left\">accepted_rate</th>\n",
       "      <th colspan=\"3\" halign=\"left\">rating</th>\n",
       "    </tr>\n",
       "    <tr>\n",
       "      <th></th>\n",
       "      <th></th>\n",
       "      <th>count</th>\n",
       "      <th>mean</th>\n",
       "      <th>median</th>\n",
       "      <th>std</th>\n",
       "      <th>mean</th>\n",
       "      <th>median</th>\n",
       "      <th>std</th>\n",
       "      <th>mean</th>\n",
       "      <th>median</th>\n",
       "      <th>std</th>\n",
       "      <th>mean</th>\n",
       "      <th>median</th>\n",
       "      <th>std</th>\n",
       "    </tr>\n",
       "  </thead>\n",
       "  <tbody>\n",
       "    <tr>\n",
       "      <th>0</th>\n",
       "      <td>1</td>\n",
       "      <td>440</td>\n",
       "      <td>0.847290</td>\n",
       "      <td>0.84765</td>\n",
       "      <td>0.030172</td>\n",
       "      <td>2.239227</td>\n",
       "      <td>2.22</td>\n",
       "      <td>0.554820</td>\n",
       "      <td>0.935696</td>\n",
       "      <td>0.947222</td>\n",
       "      <td>0.057484</td>\n",
       "      <td>4.865571</td>\n",
       "      <td>4.88</td>\n",
       "      <td>0.126178</td>\n",
       "    </tr>\n",
       "    <tr>\n",
       "      <th>1</th>\n",
       "      <td>2</td>\n",
       "      <td>719</td>\n",
       "      <td>0.846542</td>\n",
       "      <td>0.84765</td>\n",
       "      <td>0.036801</td>\n",
       "      <td>2.272156</td>\n",
       "      <td>2.17</td>\n",
       "      <td>0.822574</td>\n",
       "      <td>0.784855</td>\n",
       "      <td>0.800000</td>\n",
       "      <td>0.126644</td>\n",
       "      <td>4.843834</td>\n",
       "      <td>4.88</td>\n",
       "      <td>0.144258</td>\n",
       "    </tr>\n",
       "    <tr>\n",
       "      <th>2</th>\n",
       "      <td>3</td>\n",
       "      <td>1643</td>\n",
       "      <td>0.870753</td>\n",
       "      <td>0.87190</td>\n",
       "      <td>0.023945</td>\n",
       "      <td>1.392307</td>\n",
       "      <td>1.37</td>\n",
       "      <td>0.264627</td>\n",
       "      <td>0.957624</td>\n",
       "      <td>0.960000</td>\n",
       "      <td>0.040427</td>\n",
       "      <td>4.845664</td>\n",
       "      <td>4.88</td>\n",
       "      <td>0.128406</td>\n",
       "    </tr>\n",
       "    <tr>\n",
       "      <th>3</th>\n",
       "      <td>4</td>\n",
       "      <td>62</td>\n",
       "      <td>0.855525</td>\n",
       "      <td>0.85130</td>\n",
       "      <td>0.062806</td>\n",
       "      <td>2.274032</td>\n",
       "      <td>2.19</td>\n",
       "      <td>0.304999</td>\n",
       "      <td>0.782790</td>\n",
       "      <td>0.809091</td>\n",
       "      <td>0.203628</td>\n",
       "      <td>4.861429</td>\n",
       "      <td>5.00</td>\n",
       "      <td>0.238355</td>\n",
       "    </tr>\n",
       "  </tbody>\n",
       "</table>\n",
       "</div>"
      ],
      "text/plain": [
       "  new_seniority shopper_id found_rate                    picking_speed         \\\n",
       "                     count       mean   median       std          mean median   \n",
       "0             1        440   0.847290  0.84765  0.030172      2.239227   2.22   \n",
       "1             2        719   0.846542  0.84765  0.036801      2.272156   2.17   \n",
       "2             3       1643   0.870753  0.87190  0.023945      1.392307   1.37   \n",
       "3             4         62   0.855525  0.85130  0.062806      2.274032   2.19   \n",
       "\n",
       "            accepted_rate                        rating                   \n",
       "        std          mean    median       std      mean median       std  \n",
       "0  0.554820      0.935696  0.947222  0.057484  4.865571   4.88  0.126178  \n",
       "1  0.822574      0.784855  0.800000  0.126644  4.843834   4.88  0.144258  \n",
       "2  0.264627      0.957624  0.960000  0.040427  4.845664   4.88  0.128406  \n",
       "3  0.304999      0.782790  0.809091  0.203628  4.861429   5.00  0.238355  "
      ]
     },
     "execution_count": 12,
     "metadata": {},
     "output_type": "execute_result"
    }
   ],
   "source": [
    "# Statatistics for level of seniority\n",
    "a = shopper.groupby('new_seniority').agg({'shopper_id':'count',\n",
    "                                  'found_rate':['mean','median','std'],\n",
    "                                  'picking_speed':['mean','median','std'],\n",
    "                                  'accepted_rate':['mean','median','std'],\n",
    "                                  'rating':['mean','median','std']}).reset_index()\n",
    "a"
   ]
  },
  {
   "cell_type": "raw",
   "metadata": {},
   "source": [
    "El nivel 4 de seniority debe ser el mas novicio, porque la gran mayoria de los que tienen este nivel no tienen informacion. Por otro lado, el nivel 3 (casis sin NaN) es quien tienen mayor experiencia, quienes representan mas del 50% de los shopper. Esto puede concluirse por la alta tasa de acceptacion, velocidad de recoleccion y found rate. \n",
    "\n",
    "La diferencia entre el nivel 1 y 2 puede deberse a que 1, esta en camino a convertirse en 3 o un full time shopper mientras que 2 es partime."
   ]
  },
  {
   "cell_type": "markdown",
   "metadata": {},
   "source": [
    "### Filling NaNs with the mean of the seniority according the column"
   ]
  },
  {
   "cell_type": "raw",
   "metadata": {},
   "source": [
    "Para todos los NaN presentes, imputaremos el valor promedio de la columna basado en el seniority del shopper."
   ]
  },
  {
   "cell_type": "code",
   "execution_count": 13,
   "metadata": {},
   "outputs": [],
   "source": [
    "## Found Rate\n",
    "shopper.loc[(shopper.new_seniority == 1) & (shopper.found_rate.isnull() == True),'found_rate'] = 0.847290\n",
    "shopper.loc[(shopper.new_seniority == 2) & (shopper.found_rate.isnull() == True),'found_rate'] = 0.846542\n",
    "shopper.loc[(shopper.new_seniority == 3) & (shopper.found_rate.isnull() == True),'found_rate'] = 0.870753\n",
    "shopper.loc[(shopper.new_seniority == 4) & (shopper.found_rate.isnull() == True),'found_rate'] = 0.855525"
   ]
  },
  {
   "cell_type": "code",
   "execution_count": 14,
   "metadata": {},
   "outputs": [],
   "source": [
    "## Acceptance Rate\n",
    "shopper.loc[(shopper.new_seniority == 1) & (shopper.accepted_rate.isnull() == True),'accepted_rate'] = 0.935696\n",
    "shopper.loc[(shopper.new_seniority == 2) & (shopper.accepted_rate.isnull() == True),'accepted_rate'] = 0.784855\n",
    "shopper.loc[(shopper.new_seniority == 3) & (shopper.accepted_rate.isnull() == True),'accepted_rate'] = 0.957624\n",
    "shopper.loc[(shopper.new_seniority == 4) & (shopper.accepted_rate.isnull() == True),'accepted_rate'] = 0.782790"
   ]
  },
  {
   "cell_type": "code",
   "execution_count": 15,
   "metadata": {},
   "outputs": [],
   "source": [
    "## Found Rate\n",
    "shopper.loc[(shopper.new_seniority == 1) & (shopper.rating.isnull() == True),'rating'] = 4.865571\n",
    "shopper.loc[(shopper.new_seniority == 2) & (shopper.rating.isnull() == True),'rating'] = 4.843834\n",
    "shopper.loc[(shopper.new_seniority == 3) & (shopper.rating.isnull() == True),'rating'] = 4.845664\n",
    "shopper.loc[(shopper.new_seniority == 4) & (shopper.rating.isnull() == True),'rating'] = 4.861429"
   ]
  },
  {
   "cell_type": "code",
   "execution_count": 16,
   "metadata": {},
   "outputs": [
    {
     "data": {
      "text/plain": [
       "new_seniority    0\n",
       "rating           0\n",
       "accepted_rate    0\n",
       "picking_speed    0\n",
       "found_rate       0\n",
       "seniority        0\n",
       "shopper_id       0\n",
       "dtype: int64"
      ]
     },
     "execution_count": 16,
     "metadata": {},
     "output_type": "execute_result"
    }
   ],
   "source": [
    "shopper.isnull().sum().sort_values(ascending=False)"
   ]
  },
  {
   "cell_type": "markdown",
   "metadata": {},
   "source": [
    "## StoreBranch"
   ]
  },
  {
   "cell_type": "code",
   "execution_count": 17,
   "metadata": {},
   "outputs": [
    {
     "data": {
      "text/html": [
       "<div>\n",
       "<style scoped>\n",
       "    .dataframe tbody tr th:only-of-type {\n",
       "        vertical-align: middle;\n",
       "    }\n",
       "\n",
       "    .dataframe tbody tr th {\n",
       "        vertical-align: top;\n",
       "    }\n",
       "\n",
       "    .dataframe thead th {\n",
       "        text-align: right;\n",
       "    }\n",
       "</style>\n",
       "<table border=\"1\" class=\"dataframe\">\n",
       "  <thead>\n",
       "    <tr style=\"text-align: right;\">\n",
       "      <th></th>\n",
       "      <th>store_branch_id</th>\n",
       "      <th>store_id</th>\n",
       "      <th>lat</th>\n",
       "      <th>lng</th>\n",
       "    </tr>\n",
       "  </thead>\n",
       "  <tbody>\n",
       "    <tr>\n",
       "      <th>0</th>\n",
       "      <td>aff1621254f7c1be92f64550478c56e6</td>\n",
       "      <td>92cc227532d17e56e07902b254dfad10</td>\n",
       "      <td>-33.422497</td>\n",
       "      <td>-70.609231</td>\n",
       "    </tr>\n",
       "    <tr>\n",
       "      <th>1</th>\n",
       "      <td>56352739f59643540a3a6e16985f62c7</td>\n",
       "      <td>0336dcbab05b9d5ad24f4333c7658a0e</td>\n",
       "      <td>-33.385484</td>\n",
       "      <td>-70.555579</td>\n",
       "    </tr>\n",
       "    <tr>\n",
       "      <th>2</th>\n",
       "      <td>7d04bbbe5494ae9d2f5a76aa1c00fa2f</td>\n",
       "      <td>9bf31c7ff062936a96d3c8bd1f8f2ff3</td>\n",
       "      <td>-33.416579</td>\n",
       "      <td>-70.565224</td>\n",
       "    </tr>\n",
       "    <tr>\n",
       "      <th>3</th>\n",
       "      <td>2b24d495052a8ce66358eb576b8912c8</td>\n",
       "      <td>c4ca4238a0b923820dcc509a6f75849b</td>\n",
       "      <td>-33.512578</td>\n",
       "      <td>-70.655952</td>\n",
       "    </tr>\n",
       "    <tr>\n",
       "      <th>4</th>\n",
       "      <td>5487315b1286f907165907aa8fc96619</td>\n",
       "      <td>d82c8d1619ad8176d665453cfb2e55f0</td>\n",
       "      <td>-33.347645</td>\n",
       "      <td>-70.542229</td>\n",
       "    </tr>\n",
       "  </tbody>\n",
       "</table>\n",
       "</div>"
      ],
      "text/plain": [
       "                    store_branch_id                          store_id  \\\n",
       "0  aff1621254f7c1be92f64550478c56e6  92cc227532d17e56e07902b254dfad10   \n",
       "1  56352739f59643540a3a6e16985f62c7  0336dcbab05b9d5ad24f4333c7658a0e   \n",
       "2  7d04bbbe5494ae9d2f5a76aa1c00fa2f  9bf31c7ff062936a96d3c8bd1f8f2ff3   \n",
       "3  2b24d495052a8ce66358eb576b8912c8  c4ca4238a0b923820dcc509a6f75849b   \n",
       "4  5487315b1286f907165907aa8fc96619  d82c8d1619ad8176d665453cfb2e55f0   \n",
       "\n",
       "         lat        lng  \n",
       "0 -33.422497 -70.609231  \n",
       "1 -33.385484 -70.555579  \n",
       "2 -33.416579 -70.565224  \n",
       "3 -33.512578 -70.655952  \n",
       "4 -33.347645 -70.542229  "
      ]
     },
     "execution_count": 17,
     "metadata": {},
     "output_type": "execute_result"
    }
   ],
   "source": [
    "store = pd.read_csv('data/storebranch.csv')\n",
    "store.head()"
   ]
  },
  {
   "cell_type": "code",
   "execution_count": 18,
   "metadata": {},
   "outputs": [],
   "source": [
    "store = store.rename(columns={'lat':'lat_store',\n",
    "                          'lng':'lng_store'},) "
   ]
  },
  {
   "cell_type": "code",
   "execution_count": 21,
   "metadata": {},
   "outputs": [
    {
     "name": "stdout",
     "output_type": "stream",
     "text": [
      "Detalle NaNs: \n",
      " \n",
      " lng_store          0\n",
      "lat_store          0\n",
      "store_id           0\n",
      "store_branch_id    0\n",
      "dtype: int64 \n",
      " \n",
      "\n",
      "<class 'pandas.core.frame.DataFrame'>\n",
      "RangeIndex: 476 entries, 0 to 475\n",
      "Data columns (total 4 columns):\n",
      " #   Column           Non-Null Count  Dtype  \n",
      "---  ------           --------------  -----  \n",
      " 0   store_branch_id  476 non-null    object \n",
      " 1   store_id         476 non-null    object \n",
      " 2   lat_store        476 non-null    float64\n",
      " 3   lng_store        476 non-null    float64\n",
      "dtypes: float64(2), object(2)\n",
      "memory usage: 15.0+ KB\n",
      "None\n"
     ]
    }
   ],
   "source": [
    "print('Detalle NaNs:','\\n','\\n',store.isnull().sum().sort_values(ascending=False),'\\n','\\n')\n",
    "print(store.info())"
   ]
  },
  {
   "cell_type": "code",
   "execution_count": 22,
   "metadata": {},
   "outputs": [
    {
     "name": "stdout",
     "output_type": "stream",
     "text": [
      "Numero de tiendas: 221\n",
      "Numero de sucursales: 476\n"
     ]
    }
   ],
   "source": [
    "print('Numero de tiendas:', len(store.store_id.unique().tolist()))\n",
    "print('Numero de sucursales:', len(store.store_branch_id.unique().tolist()))"
   ]
  },
  {
   "cell_type": "markdown",
   "metadata": {},
   "source": [
    "store_id debe estar realacionada con el nombre de la tienda, por lo que al momento de hacer el merge con orders, podriamos obtener cuales son las tiendas mas comunes que visitan los shopper. En este sentido, las que mas se visistan, pueden estar con mayor aglomeracion, incrementando los tiempos de delivery."
   ]
  },
  {
   "cell_type": "markdown",
   "metadata": {},
   "source": [
    "## Orders"
   ]
  },
  {
   "cell_type": "code",
   "execution_count": 23,
   "metadata": {},
   "outputs": [
    {
     "data": {
      "text/html": [
       "<div>\n",
       "<style scoped>\n",
       "    .dataframe tbody tr th:only-of-type {\n",
       "        vertical-align: middle;\n",
       "    }\n",
       "\n",
       "    .dataframe tbody tr th {\n",
       "        vertical-align: top;\n",
       "    }\n",
       "\n",
       "    .dataframe thead th {\n",
       "        text-align: right;\n",
       "    }\n",
       "</style>\n",
       "<table border=\"1\" class=\"dataframe\">\n",
       "  <thead>\n",
       "    <tr style=\"text-align: right;\">\n",
       "      <th></th>\n",
       "      <th>order_id</th>\n",
       "      <th>lat</th>\n",
       "      <th>lng</th>\n",
       "      <th>promised_time</th>\n",
       "      <th>on_demand</th>\n",
       "      <th>shopper_id</th>\n",
       "      <th>store_branch_id</th>\n",
       "      <th>total_minutes</th>\n",
       "    </tr>\n",
       "  </thead>\n",
       "  <tbody>\n",
       "    <tr>\n",
       "      <th>0</th>\n",
       "      <td>e750294655c2c7c34d83cc3181c09de4</td>\n",
       "      <td>-33.501675</td>\n",
       "      <td>-70.579369</td>\n",
       "      <td>2019-10-18 20:48:00+00:00</td>\n",
       "      <td>True</td>\n",
       "      <td>e63bc83a1a952fa2b3cc9d558fb943cf</td>\n",
       "      <td>65ded5353c5ee48d0b7d48c591b8f430</td>\n",
       "      <td>67.684264</td>\n",
       "    </tr>\n",
       "    <tr>\n",
       "      <th>1</th>\n",
       "      <td>6581174846221cb6c467348e87f57641</td>\n",
       "      <td>-33.440584</td>\n",
       "      <td>-70.556283</td>\n",
       "      <td>2019-10-19 01:00:00+00:00</td>\n",
       "      <td>False</td>\n",
       "      <td>195f9e9d84a4ba9033c4b6a756334d8b</td>\n",
       "      <td>45fbc6d3e05ebd93369ce542e8f2322d</td>\n",
       "      <td>57.060632</td>\n",
       "    </tr>\n",
       "    <tr>\n",
       "      <th>2</th>\n",
       "      <td>3a226ea48debc0a7ae9950d5540f2f34</td>\n",
       "      <td>-32.987022</td>\n",
       "      <td>-71.544842</td>\n",
       "      <td>2019-10-19 14:54:00+00:00</td>\n",
       "      <td>True</td>\n",
       "      <td>a5b9ddc0d82e61582fca19ad43dbaacb</td>\n",
       "      <td>07563a3fe3bbe7e3ba84431ad9d055af</td>\n",
       "      <td>NaN</td>\n",
       "    </tr>\n",
       "    <tr>\n",
       "      <th>3</th>\n",
       "      <td>7d2ed03fe4966083e74b12694b1669d8</td>\n",
       "      <td>-33.328075</td>\n",
       "      <td>-70.512659</td>\n",
       "      <td>2019-10-18 21:47:00+00:00</td>\n",
       "      <td>True</td>\n",
       "      <td>d0b3f6bf7e249e5ebb8d3129341773a2</td>\n",
       "      <td>f1748d6b0fd9d439f71450117eba2725</td>\n",
       "      <td>52.067742</td>\n",
       "    </tr>\n",
       "    <tr>\n",
       "      <th>4</th>\n",
       "      <td>b4b2682d77118155fe4716300ccf7f39</td>\n",
       "      <td>-33.403239</td>\n",
       "      <td>-70.564020</td>\n",
       "      <td>2019-10-19 20:00:00+00:00</td>\n",
       "      <td>False</td>\n",
       "      <td>5c5199ce02f7b77caa9c2590a39ad27d</td>\n",
       "      <td>1f0e3dad99908345f7439f8ffabdffc4</td>\n",
       "      <td>140.724822</td>\n",
       "    </tr>\n",
       "  </tbody>\n",
       "</table>\n",
       "</div>"
      ],
      "text/plain": [
       "                           order_id        lat        lng  \\\n",
       "0  e750294655c2c7c34d83cc3181c09de4 -33.501675 -70.579369   \n",
       "1  6581174846221cb6c467348e87f57641 -33.440584 -70.556283   \n",
       "2  3a226ea48debc0a7ae9950d5540f2f34 -32.987022 -71.544842   \n",
       "3  7d2ed03fe4966083e74b12694b1669d8 -33.328075 -70.512659   \n",
       "4  b4b2682d77118155fe4716300ccf7f39 -33.403239 -70.564020   \n",
       "\n",
       "               promised_time  on_demand                        shopper_id  \\\n",
       "0  2019-10-18 20:48:00+00:00       True  e63bc83a1a952fa2b3cc9d558fb943cf   \n",
       "1  2019-10-19 01:00:00+00:00      False  195f9e9d84a4ba9033c4b6a756334d8b   \n",
       "2  2019-10-19 14:54:00+00:00       True  a5b9ddc0d82e61582fca19ad43dbaacb   \n",
       "3  2019-10-18 21:47:00+00:00       True  d0b3f6bf7e249e5ebb8d3129341773a2   \n",
       "4  2019-10-19 20:00:00+00:00      False  5c5199ce02f7b77caa9c2590a39ad27d   \n",
       "\n",
       "                    store_branch_id  total_minutes  \n",
       "0  65ded5353c5ee48d0b7d48c591b8f430      67.684264  \n",
       "1  45fbc6d3e05ebd93369ce542e8f2322d      57.060632  \n",
       "2  07563a3fe3bbe7e3ba84431ad9d055af            NaN  \n",
       "3  f1748d6b0fd9d439f71450117eba2725      52.067742  \n",
       "4  1f0e3dad99908345f7439f8ffabdffc4     140.724822  "
      ]
     },
     "execution_count": 23,
     "metadata": {},
     "output_type": "execute_result"
    }
   ],
   "source": [
    "orders= pd.read_csv('data/orders.csv')\n",
    "orders.head()"
   ]
  },
  {
   "cell_type": "code",
   "execution_count": 24,
   "metadata": {},
   "outputs": [],
   "source": [
    "orders = orders.rename(columns={'lat':'lat_cli',\n",
    "                          'lng':'lng_cli'},) "
   ]
  },
  {
   "cell_type": "code",
   "execution_count": 25,
   "metadata": {},
   "outputs": [
    {
     "name": "stdout",
     "output_type": "stream",
     "text": [
      "Detalle NaNs: \n",
      " total_minutes      2000\n",
      "store_branch_id       0\n",
      "shopper_id            0\n",
      "on_demand             0\n",
      "promised_time         0\n",
      "lng_cli               0\n",
      "lat_cli               0\n",
      "order_id              0\n",
      "dtype: int64 \n",
      " \n",
      "\n",
      "<class 'pandas.core.frame.DataFrame'>\n",
      "RangeIndex: 10000 entries, 0 to 9999\n",
      "Data columns (total 8 columns):\n",
      " #   Column           Non-Null Count  Dtype  \n",
      "---  ------           --------------  -----  \n",
      " 0   order_id         10000 non-null  object \n",
      " 1   lat_cli          10000 non-null  float64\n",
      " 2   lng_cli          10000 non-null  float64\n",
      " 3   promised_time    10000 non-null  object \n",
      " 4   on_demand        10000 non-null  bool   \n",
      " 5   shopper_id       10000 non-null  object \n",
      " 6   store_branch_id  10000 non-null  object \n",
      " 7   total_minutes    8000 non-null   float64\n",
      "dtypes: bool(1), float64(3), object(4)\n",
      "memory usage: 556.8+ KB\n",
      "None\n"
     ]
    }
   ],
   "source": [
    "print('Detalle NaNs:','\\n', orders.isnull().sum().sort_values(ascending=False),'\\n','\\n')\n",
    "print(orders.info())"
   ]
  },
  {
   "cell_type": "markdown",
   "metadata": {},
   "source": [
    "# Merging all the data"
   ]
  },
  {
   "cell_type": "code",
   "execution_count": 26,
   "metadata": {},
   "outputs": [
    {
     "data": {
      "text/plain": [
       "total_minutes      1995\n",
       "UN                    0\n",
       "KG                    0\n",
       "store_branch_id       0\n",
       "shopper_id            0\n",
       "on_demand             0\n",
       "promised_time         0\n",
       "lng_cli               0\n",
       "lat_cli               0\n",
       "order_id              0\n",
       "dtype: int64"
      ]
     },
     "execution_count": 26,
     "metadata": {},
     "output_type": "execute_result"
    }
   ],
   "source": [
    "df = pd.merge(orders, orders_p2, on='order_id')\n",
    "df.isnull().sum().sort_values(ascending=False)"
   ]
  },
  {
   "cell_type": "code",
   "execution_count": 27,
   "metadata": {},
   "outputs": [
    {
     "data": {
      "text/plain": [
       "total_minutes      1995\n",
       "new_seniority         0\n",
       "rating                0\n",
       "accepted_rate         0\n",
       "picking_speed         0\n",
       "found_rate            0\n",
       "seniority             0\n",
       "UN                    0\n",
       "KG                    0\n",
       "store_branch_id       0\n",
       "shopper_id            0\n",
       "on_demand             0\n",
       "promised_time         0\n",
       "lng_cli               0\n",
       "lat_cli               0\n",
       "order_id              0\n",
       "dtype: int64"
      ]
     },
     "execution_count": 27,
     "metadata": {},
     "output_type": "execute_result"
    }
   ],
   "source": [
    "df = pd.merge(df, shopper, on='shopper_id')\n",
    "df.isnull().sum().sort_values(ascending=False)"
   ]
  },
  {
   "cell_type": "code",
   "execution_count": 28,
   "metadata": {},
   "outputs": [
    {
     "data": {
      "text/plain": [
       "total_minutes      1995\n",
       "lng_store             0\n",
       "KG                    0\n",
       "lat_cli               0\n",
       "lng_cli               0\n",
       "promised_time         0\n",
       "on_demand             0\n",
       "shopper_id            0\n",
       "store_branch_id       0\n",
       "UN                    0\n",
       "lat_store             0\n",
       "seniority             0\n",
       "found_rate            0\n",
       "picking_speed         0\n",
       "accepted_rate         0\n",
       "rating                0\n",
       "new_seniority         0\n",
       "store_id              0\n",
       "order_id              0\n",
       "dtype: int64"
      ]
     },
     "execution_count": 28,
     "metadata": {},
     "output_type": "execute_result"
    }
   ],
   "source": [
    "df = pd.merge(df, store, on='store_branch_id')\n",
    "df.isnull().sum().sort_values(ascending=False)"
   ]
  },
  {
   "cell_type": "markdown",
   "metadata": {},
   "source": [
    "# Creating new features"
   ]
  },
  {
   "cell_type": "markdown",
   "metadata": {},
   "source": [
    "### Distance to be covered from collecting to delivery point"
   ]
  },
  {
   "cell_type": "raw",
   "metadata": {},
   "source": [
    "Es de esperar que entre mas lejos el punto de delivery este de la tienda, más tiempo le tome a un shopper entregarlo. Utilizaremos la lat y lng de la tienda y el cliente para calcular la distancia entre estos dos puntos. "
   ]
  },
  {
   "cell_type": "code",
   "execution_count": 29,
   "metadata": {},
   "outputs": [],
   "source": [
    "from haversine import haversine, Unit\n",
    "\n",
    "distance = []\n",
    "for index, row in df.iterrows():\n",
    "    store = (row['lat_store'], row['lng_store'])\n",
    "    delivery =(row['lat_cli'], row['lng_cli'])\n",
    "    a =round(haversine(store,delivery), 3)\n",
    "    distance.append(a)"
   ]
  },
  {
   "cell_type": "code",
   "execution_count": 30,
   "metadata": {},
   "outputs": [
    {
     "data": {
      "text/html": [
       "<div>\n",
       "<style scoped>\n",
       "    .dataframe tbody tr th:only-of-type {\n",
       "        vertical-align: middle;\n",
       "    }\n",
       "\n",
       "    .dataframe tbody tr th {\n",
       "        vertical-align: top;\n",
       "    }\n",
       "\n",
       "    .dataframe thead th {\n",
       "        text-align: right;\n",
       "    }\n",
       "</style>\n",
       "<table border=\"1\" class=\"dataframe\">\n",
       "  <thead>\n",
       "    <tr style=\"text-align: right;\">\n",
       "      <th></th>\n",
       "      <th>order_id</th>\n",
       "      <th>lat_cli</th>\n",
       "      <th>lng_cli</th>\n",
       "      <th>promised_time</th>\n",
       "      <th>on_demand</th>\n",
       "      <th>shopper_id</th>\n",
       "      <th>store_branch_id</th>\n",
       "      <th>total_minutes</th>\n",
       "      <th>KG</th>\n",
       "      <th>UN</th>\n",
       "      <th>seniority</th>\n",
       "      <th>found_rate</th>\n",
       "      <th>picking_speed</th>\n",
       "      <th>accepted_rate</th>\n",
       "      <th>rating</th>\n",
       "      <th>new_seniority</th>\n",
       "      <th>store_id</th>\n",
       "      <th>lat_store</th>\n",
       "      <th>lng_store</th>\n",
       "      <th>distance_km</th>\n",
       "    </tr>\n",
       "  </thead>\n",
       "  <tbody>\n",
       "    <tr>\n",
       "      <th>0</th>\n",
       "      <td>e750294655c2c7c34d83cc3181c09de4</td>\n",
       "      <td>-33.501675</td>\n",
       "      <td>-70.579369</td>\n",
       "      <td>2019-10-18 20:48:00+00:00</td>\n",
       "      <td>True</td>\n",
       "      <td>e63bc83a1a952fa2b3cc9d558fb943cf</td>\n",
       "      <td>65ded5353c5ee48d0b7d48c591b8f430</td>\n",
       "      <td>67.684264</td>\n",
       "      <td>2.756</td>\n",
       "      <td>16.0</td>\n",
       "      <td>6c90661e6d2c7579f5ce337c3391dbb9</td>\n",
       "      <td>0.9024</td>\n",
       "      <td>1.30</td>\n",
       "      <td>0.92</td>\n",
       "      <td>4.76</td>\n",
       "      <td>3</td>\n",
       "      <td>c4ca4238a0b923820dcc509a6f75849b</td>\n",
       "      <td>-33.48528</td>\n",
       "      <td>-70.57925</td>\n",
       "      <td>1.823</td>\n",
       "    </tr>\n",
       "    <tr>\n",
       "      <th>1</th>\n",
       "      <td>3bb5d9adb3ecac1925b60d5d26a510c4</td>\n",
       "      <td>-33.491167</td>\n",
       "      <td>-70.571649</td>\n",
       "      <td>2019-10-19 16:57:00+00:00</td>\n",
       "      <td>True</td>\n",
       "      <td>e63bc83a1a952fa2b3cc9d558fb943cf</td>\n",
       "      <td>65ded5353c5ee48d0b7d48c591b8f430</td>\n",
       "      <td>160.336211</td>\n",
       "      <td>2.900</td>\n",
       "      <td>63.0</td>\n",
       "      <td>6c90661e6d2c7579f5ce337c3391dbb9</td>\n",
       "      <td>0.9024</td>\n",
       "      <td>1.30</td>\n",
       "      <td>0.92</td>\n",
       "      <td>4.76</td>\n",
       "      <td>3</td>\n",
       "      <td>c4ca4238a0b923820dcc509a6f75849b</td>\n",
       "      <td>-33.48528</td>\n",
       "      <td>-70.57925</td>\n",
       "      <td>0.962</td>\n",
       "    </tr>\n",
       "    <tr>\n",
       "      <th>2</th>\n",
       "      <td>b838eea64cf24dde0a78ce1feb84ca7c</td>\n",
       "      <td>-33.493406</td>\n",
       "      <td>-70.594164</td>\n",
       "      <td>2019-10-19 16:00:00+00:00</td>\n",
       "      <td>False</td>\n",
       "      <td>cb5ef07d15fb3981eeb6e0011bc80163</td>\n",
       "      <td>65ded5353c5ee48d0b7d48c591b8f430</td>\n",
       "      <td>122.239210</td>\n",
       "      <td>1.000</td>\n",
       "      <td>155.0</td>\n",
       "      <td>6c90661e6d2c7579f5ce337c3391dbb9</td>\n",
       "      <td>0.8909</td>\n",
       "      <td>1.17</td>\n",
       "      <td>0.96</td>\n",
       "      <td>5.00</td>\n",
       "      <td>3</td>\n",
       "      <td>c4ca4238a0b923820dcc509a6f75849b</td>\n",
       "      <td>-33.48528</td>\n",
       "      <td>-70.57925</td>\n",
       "      <td>1.652</td>\n",
       "    </tr>\n",
       "    <tr>\n",
       "      <th>3</th>\n",
       "      <td>2c85303190a77493348b0b827232f4d6</td>\n",
       "      <td>-33.487836</td>\n",
       "      <td>-70.572412</td>\n",
       "      <td>2019-10-19 19:00:00+00:00</td>\n",
       "      <td>False</td>\n",
       "      <td>ca54a789a8dc54742710490e25df9844</td>\n",
       "      <td>65ded5353c5ee48d0b7d48c591b8f430</td>\n",
       "      <td>133.113926</td>\n",
       "      <td>7.646</td>\n",
       "      <td>115.0</td>\n",
       "      <td>6c90661e6d2c7579f5ce337c3391dbb9</td>\n",
       "      <td>0.8462</td>\n",
       "      <td>1.11</td>\n",
       "      <td>0.96</td>\n",
       "      <td>4.96</td>\n",
       "      <td>3</td>\n",
       "      <td>c4ca4238a0b923820dcc509a6f75849b</td>\n",
       "      <td>-33.48528</td>\n",
       "      <td>-70.57925</td>\n",
       "      <td>0.695</td>\n",
       "    </tr>\n",
       "    <tr>\n",
       "      <th>4</th>\n",
       "      <td>e606cc26b843c312df82a29d1f8d4372</td>\n",
       "      <td>-33.504759</td>\n",
       "      <td>-70.552168</td>\n",
       "      <td>2019-10-19 00:00:00+00:00</td>\n",
       "      <td>False</td>\n",
       "      <td>362e274d254be8fae76396b8f10a7fd5</td>\n",
       "      <td>65ded5353c5ee48d0b7d48c591b8f430</td>\n",
       "      <td>94.734479</td>\n",
       "      <td>2.216</td>\n",
       "      <td>97.0</td>\n",
       "      <td>50e13ee63f086c2fe84229348bc91b5b</td>\n",
       "      <td>0.8138</td>\n",
       "      <td>1.89</td>\n",
       "      <td>0.84</td>\n",
       "      <td>4.68</td>\n",
       "      <td>2</td>\n",
       "      <td>c4ca4238a0b923820dcc509a6f75849b</td>\n",
       "      <td>-33.48528</td>\n",
       "      <td>-70.57925</td>\n",
       "      <td>3.316</td>\n",
       "    </tr>\n",
       "  </tbody>\n",
       "</table>\n",
       "</div>"
      ],
      "text/plain": [
       "                           order_id    lat_cli    lng_cli  \\\n",
       "0  e750294655c2c7c34d83cc3181c09de4 -33.501675 -70.579369   \n",
       "1  3bb5d9adb3ecac1925b60d5d26a510c4 -33.491167 -70.571649   \n",
       "2  b838eea64cf24dde0a78ce1feb84ca7c -33.493406 -70.594164   \n",
       "3  2c85303190a77493348b0b827232f4d6 -33.487836 -70.572412   \n",
       "4  e606cc26b843c312df82a29d1f8d4372 -33.504759 -70.552168   \n",
       "\n",
       "               promised_time  on_demand                        shopper_id  \\\n",
       "0  2019-10-18 20:48:00+00:00       True  e63bc83a1a952fa2b3cc9d558fb943cf   \n",
       "1  2019-10-19 16:57:00+00:00       True  e63bc83a1a952fa2b3cc9d558fb943cf   \n",
       "2  2019-10-19 16:00:00+00:00      False  cb5ef07d15fb3981eeb6e0011bc80163   \n",
       "3  2019-10-19 19:00:00+00:00      False  ca54a789a8dc54742710490e25df9844   \n",
       "4  2019-10-19 00:00:00+00:00      False  362e274d254be8fae76396b8f10a7fd5   \n",
       "\n",
       "                    store_branch_id  total_minutes     KG     UN  \\\n",
       "0  65ded5353c5ee48d0b7d48c591b8f430      67.684264  2.756   16.0   \n",
       "1  65ded5353c5ee48d0b7d48c591b8f430     160.336211  2.900   63.0   \n",
       "2  65ded5353c5ee48d0b7d48c591b8f430     122.239210  1.000  155.0   \n",
       "3  65ded5353c5ee48d0b7d48c591b8f430     133.113926  7.646  115.0   \n",
       "4  65ded5353c5ee48d0b7d48c591b8f430      94.734479  2.216   97.0   \n",
       "\n",
       "                          seniority  found_rate  picking_speed  accepted_rate  \\\n",
       "0  6c90661e6d2c7579f5ce337c3391dbb9      0.9024           1.30           0.92   \n",
       "1  6c90661e6d2c7579f5ce337c3391dbb9      0.9024           1.30           0.92   \n",
       "2  6c90661e6d2c7579f5ce337c3391dbb9      0.8909           1.17           0.96   \n",
       "3  6c90661e6d2c7579f5ce337c3391dbb9      0.8462           1.11           0.96   \n",
       "4  50e13ee63f086c2fe84229348bc91b5b      0.8138           1.89           0.84   \n",
       "\n",
       "   rating  new_seniority                          store_id  lat_store  \\\n",
       "0    4.76              3  c4ca4238a0b923820dcc509a6f75849b  -33.48528   \n",
       "1    4.76              3  c4ca4238a0b923820dcc509a6f75849b  -33.48528   \n",
       "2    5.00              3  c4ca4238a0b923820dcc509a6f75849b  -33.48528   \n",
       "3    4.96              3  c4ca4238a0b923820dcc509a6f75849b  -33.48528   \n",
       "4    4.68              2  c4ca4238a0b923820dcc509a6f75849b  -33.48528   \n",
       "\n",
       "   lng_store  distance_km  \n",
       "0  -70.57925        1.823  \n",
       "1  -70.57925        0.962  \n",
       "2  -70.57925        1.652  \n",
       "3  -70.57925        0.695  \n",
       "4  -70.57925        3.316  "
      ]
     },
     "execution_count": 30,
     "metadata": {},
     "output_type": "execute_result"
    }
   ],
   "source": [
    "df['distance_km'] = distance\n",
    "df.head()"
   ]
  },
  {
   "cell_type": "markdown",
   "metadata": {},
   "source": [
    "### Most common stores"
   ]
  },
  {
   "cell_type": "raw",
   "metadata": {},
   "source": [
    "tienda con mayor frecuencia de ordenes pueden estar mas congestionadas, probablemente \n",
    "son supermercados, lo que puede influir en los tiempo de entrega."
   ]
  },
  {
   "cell_type": "code",
   "execution_count": 31,
   "metadata": {},
   "outputs": [
    {
     "name": "stdout",
     "output_type": "stream",
     "text": [
      "Numero de tiendas: 220\n",
      "Numero de sucursales: 471\n"
     ]
    },
    {
     "data": {
      "text/html": [
       "<div>\n",
       "<style scoped>\n",
       "    .dataframe tbody tr th:only-of-type {\n",
       "        vertical-align: middle;\n",
       "    }\n",
       "\n",
       "    .dataframe tbody tr th {\n",
       "        vertical-align: top;\n",
       "    }\n",
       "\n",
       "    .dataframe thead th {\n",
       "        text-align: right;\n",
       "    }\n",
       "</style>\n",
       "<table border=\"1\" class=\"dataframe\">\n",
       "  <thead>\n",
       "    <tr style=\"text-align: right;\">\n",
       "      <th></th>\n",
       "      <th>store_id</th>\n",
       "      <th>order_id</th>\n",
       "    </tr>\n",
       "  </thead>\n",
       "  <tbody>\n",
       "    <tr>\n",
       "      <th>162</th>\n",
       "      <td>c4ca4238a0b923820dcc509a6f75849b</td>\n",
       "      <td>7698</td>\n",
       "    </tr>\n",
       "    <tr>\n",
       "      <th>140</th>\n",
       "      <td>a87ff679a2f3e71d9181a67b7542122c</td>\n",
       "      <td>699</td>\n",
       "    </tr>\n",
       "    <tr>\n",
       "      <th>119</th>\n",
       "      <td>918317b57931b6b7a7d29490fe5ec9f9</td>\n",
       "      <td>124</td>\n",
       "    </tr>\n",
       "    <tr>\n",
       "      <th>96</th>\n",
       "      <td>7647966b7343c29048673252e490f736</td>\n",
       "      <td>107</td>\n",
       "    </tr>\n",
       "    <tr>\n",
       "      <th>59</th>\n",
       "      <td>42a0e188f5033bc65bf8d78622277c4e</td>\n",
       "      <td>72</td>\n",
       "    </tr>\n",
       "    <tr>\n",
       "      <th>128</th>\n",
       "      <td>9bf31c7ff062936a96d3c8bd1f8f2ff3</td>\n",
       "      <td>69</td>\n",
       "    </tr>\n",
       "    <tr>\n",
       "      <th>157</th>\n",
       "      <td>c0c7c76d30bd3dcaefc96f40275bdc0a</td>\n",
       "      <td>62</td>\n",
       "    </tr>\n",
       "    <tr>\n",
       "      <th>212</th>\n",
       "      <td>f718499c1c8cef6730f9fd03c8125cab</td>\n",
       "      <td>51</td>\n",
       "    </tr>\n",
       "    <tr>\n",
       "      <th>214</th>\n",
       "      <td>f899139df5e1059396431415e770c6dd</td>\n",
       "      <td>48</td>\n",
       "    </tr>\n",
       "    <tr>\n",
       "      <th>130</th>\n",
       "      <td>9cc138f8dc04cbf16240daa92d8d50e2</td>\n",
       "      <td>39</td>\n",
       "    </tr>\n",
       "  </tbody>\n",
       "</table>\n",
       "</div>"
      ],
      "text/plain": [
       "                             store_id  order_id\n",
       "162  c4ca4238a0b923820dcc509a6f75849b      7698\n",
       "140  a87ff679a2f3e71d9181a67b7542122c       699\n",
       "119  918317b57931b6b7a7d29490fe5ec9f9       124\n",
       "96   7647966b7343c29048673252e490f736       107\n",
       "59   42a0e188f5033bc65bf8d78622277c4e        72\n",
       "128  9bf31c7ff062936a96d3c8bd1f8f2ff3        69\n",
       "157  c0c7c76d30bd3dcaefc96f40275bdc0a        62\n",
       "212  f718499c1c8cef6730f9fd03c8125cab        51\n",
       "214  f899139df5e1059396431415e770c6dd        48\n",
       "130  9cc138f8dc04cbf16240daa92d8d50e2        39"
      ]
     },
     "execution_count": 31,
     "metadata": {},
     "output_type": "execute_result"
    }
   ],
   "source": [
    "print('Numero de tiendas:', len(df.store_id.unique().tolist()))\n",
    "print('Numero de sucursales:', len(df.store_branch_id.unique().tolist()))\n",
    "df.groupby('store_id').agg({'order_id':'count'}).reset_index().sort_values(by=['order_id'],ascending=False).head(10)"
   ]
  },
  {
   "cell_type": "code",
   "execution_count": null,
   "metadata": {},
   "outputs": [],
   "source": [
    "agruparemos en tres, las tiendas, siendo las con mayor frecuencia (>500 entregas) \n",
    "consideradas individual mientras que el resto solo como una."
   ]
  },
  {
   "cell_type": "code",
   "execution_count": 226,
   "metadata": {},
   "outputs": [
    {
     "data": {
      "text/html": [
       "<div>\n",
       "<style scoped>\n",
       "    .dataframe tbody tr th:only-of-type {\n",
       "        vertical-align: middle;\n",
       "    }\n",
       "\n",
       "    .dataframe tbody tr th {\n",
       "        vertical-align: top;\n",
       "    }\n",
       "\n",
       "    .dataframe thead th {\n",
       "        text-align: right;\n",
       "    }\n",
       "</style>\n",
       "<table border=\"1\" class=\"dataframe\">\n",
       "  <thead>\n",
       "    <tr style=\"text-align: right;\">\n",
       "      <th></th>\n",
       "      <th>order_id</th>\n",
       "      <th>lat_cli</th>\n",
       "      <th>lng_cli</th>\n",
       "      <th>promised_time</th>\n",
       "      <th>on_demand</th>\n",
       "      <th>shopper_id</th>\n",
       "      <th>store_branch_id</th>\n",
       "      <th>total_minutes</th>\n",
       "      <th>KG</th>\n",
       "      <th>UN</th>\n",
       "      <th>...</th>\n",
       "      <th>new_seniority</th>\n",
       "      <th>store_id</th>\n",
       "      <th>lat_store</th>\n",
       "      <th>lng_store</th>\n",
       "      <th>distance_km</th>\n",
       "      <th>new_store_id</th>\n",
       "      <th>tramo_dia</th>\n",
       "      <th>date</th>\n",
       "      <th>Hour</th>\n",
       "      <th>day</th>\n",
       "    </tr>\n",
       "  </thead>\n",
       "  <tbody>\n",
       "    <tr>\n",
       "      <th>0</th>\n",
       "      <td>e750294655c2c7c34d83cc3181c09de4</td>\n",
       "      <td>-33.501675</td>\n",
       "      <td>-70.579369</td>\n",
       "      <td>2019-10-18 20:48:00+00:00</td>\n",
       "      <td>True</td>\n",
       "      <td>e63bc83a1a952fa2b3cc9d558fb943cf</td>\n",
       "      <td>65ded5353c5ee48d0b7d48c591b8f430</td>\n",
       "      <td>67.684264</td>\n",
       "      <td>2.756</td>\n",
       "      <td>16.0</td>\n",
       "      <td>...</td>\n",
       "      <td>3</td>\n",
       "      <td>c4ca4238a0b923820dcc509a6f75849b</td>\n",
       "      <td>-33.485280</td>\n",
       "      <td>-70.579250</td>\n",
       "      <td>1.823</td>\n",
       "      <td>1.0</td>\n",
       "      <td>4</td>\n",
       "      <td>2019-10-18 20:48:00</td>\n",
       "      <td>20</td>\n",
       "      <td>18</td>\n",
       "    </tr>\n",
       "    <tr>\n",
       "      <th>1</th>\n",
       "      <td>3bb5d9adb3ecac1925b60d5d26a510c4</td>\n",
       "      <td>-33.491167</td>\n",
       "      <td>-70.571649</td>\n",
       "      <td>2019-10-19 16:57:00+00:00</td>\n",
       "      <td>True</td>\n",
       "      <td>e63bc83a1a952fa2b3cc9d558fb943cf</td>\n",
       "      <td>65ded5353c5ee48d0b7d48c591b8f430</td>\n",
       "      <td>160.336211</td>\n",
       "      <td>2.900</td>\n",
       "      <td>63.0</td>\n",
       "      <td>...</td>\n",
       "      <td>3</td>\n",
       "      <td>c4ca4238a0b923820dcc509a6f75849b</td>\n",
       "      <td>-33.485280</td>\n",
       "      <td>-70.579250</td>\n",
       "      <td>0.962</td>\n",
       "      <td>1.0</td>\n",
       "      <td>3</td>\n",
       "      <td>2019-10-19 16:57:00</td>\n",
       "      <td>16</td>\n",
       "      <td>19</td>\n",
       "    </tr>\n",
       "    <tr>\n",
       "      <th>2</th>\n",
       "      <td>b838eea64cf24dde0a78ce1feb84ca7c</td>\n",
       "      <td>-33.493406</td>\n",
       "      <td>-70.594164</td>\n",
       "      <td>2019-10-19 16:00:00+00:00</td>\n",
       "      <td>False</td>\n",
       "      <td>cb5ef07d15fb3981eeb6e0011bc80163</td>\n",
       "      <td>65ded5353c5ee48d0b7d48c591b8f430</td>\n",
       "      <td>122.239210</td>\n",
       "      <td>1.000</td>\n",
       "      <td>155.0</td>\n",
       "      <td>...</td>\n",
       "      <td>3</td>\n",
       "      <td>c4ca4238a0b923820dcc509a6f75849b</td>\n",
       "      <td>-33.485280</td>\n",
       "      <td>-70.579250</td>\n",
       "      <td>1.652</td>\n",
       "      <td>1.0</td>\n",
       "      <td>3</td>\n",
       "      <td>2019-10-19 16:00:00</td>\n",
       "      <td>16</td>\n",
       "      <td>19</td>\n",
       "    </tr>\n",
       "    <tr>\n",
       "      <th>3</th>\n",
       "      <td>2c85303190a77493348b0b827232f4d6</td>\n",
       "      <td>-33.487836</td>\n",
       "      <td>-70.572412</td>\n",
       "      <td>2019-10-19 19:00:00+00:00</td>\n",
       "      <td>False</td>\n",
       "      <td>ca54a789a8dc54742710490e25df9844</td>\n",
       "      <td>65ded5353c5ee48d0b7d48c591b8f430</td>\n",
       "      <td>133.113926</td>\n",
       "      <td>7.646</td>\n",
       "      <td>115.0</td>\n",
       "      <td>...</td>\n",
       "      <td>3</td>\n",
       "      <td>c4ca4238a0b923820dcc509a6f75849b</td>\n",
       "      <td>-33.485280</td>\n",
       "      <td>-70.579250</td>\n",
       "      <td>0.695</td>\n",
       "      <td>1.0</td>\n",
       "      <td>3</td>\n",
       "      <td>2019-10-19 19:00:00</td>\n",
       "      <td>19</td>\n",
       "      <td>19</td>\n",
       "    </tr>\n",
       "    <tr>\n",
       "      <th>4</th>\n",
       "      <td>e606cc26b843c312df82a29d1f8d4372</td>\n",
       "      <td>-33.504759</td>\n",
       "      <td>-70.552168</td>\n",
       "      <td>2019-10-19 00:00:00+00:00</td>\n",
       "      <td>False</td>\n",
       "      <td>362e274d254be8fae76396b8f10a7fd5</td>\n",
       "      <td>65ded5353c5ee48d0b7d48c591b8f430</td>\n",
       "      <td>94.734479</td>\n",
       "      <td>2.216</td>\n",
       "      <td>97.0</td>\n",
       "      <td>...</td>\n",
       "      <td>2</td>\n",
       "      <td>c4ca4238a0b923820dcc509a6f75849b</td>\n",
       "      <td>-33.485280</td>\n",
       "      <td>-70.579250</td>\n",
       "      <td>3.316</td>\n",
       "      <td>1.0</td>\n",
       "      <td>1</td>\n",
       "      <td>2019-10-19 00:00:00</td>\n",
       "      <td>0</td>\n",
       "      <td>19</td>\n",
       "    </tr>\n",
       "    <tr>\n",
       "      <th>...</th>\n",
       "      <td>...</td>\n",
       "      <td>...</td>\n",
       "      <td>...</td>\n",
       "      <td>...</td>\n",
       "      <td>...</td>\n",
       "      <td>...</td>\n",
       "      <td>...</td>\n",
       "      <td>...</td>\n",
       "      <td>...</td>\n",
       "      <td>...</td>\n",
       "      <td>...</td>\n",
       "      <td>...</td>\n",
       "      <td>...</td>\n",
       "      <td>...</td>\n",
       "      <td>...</td>\n",
       "      <td>...</td>\n",
       "      <td>...</td>\n",
       "      <td>...</td>\n",
       "      <td>...</td>\n",
       "      <td>...</td>\n",
       "      <td>...</td>\n",
       "    </tr>\n",
       "    <tr>\n",
       "      <th>9973</th>\n",
       "      <td>b1462a91b7fdedc7f6f6c117793d85c1</td>\n",
       "      <td>-33.526613</td>\n",
       "      <td>-70.595130</td>\n",
       "      <td>2019-10-18 19:10:00+00:00</td>\n",
       "      <td>True</td>\n",
       "      <td>e592fdb1d561cad1da5d99d1462eb711</td>\n",
       "      <td>add217938e07bb1fd8796e0315b88c10</td>\n",
       "      <td>38.001058</td>\n",
       "      <td>0.000</td>\n",
       "      <td>1.0</td>\n",
       "      <td>...</td>\n",
       "      <td>2</td>\n",
       "      <td>e369853df766fa44e1ed0ff613f563bd</td>\n",
       "      <td>-33.517613</td>\n",
       "      <td>-70.598084</td>\n",
       "      <td>1.038</td>\n",
       "      <td>5.0</td>\n",
       "      <td>3</td>\n",
       "      <td>2019-10-18 19:10:00</td>\n",
       "      <td>19</td>\n",
       "      <td>18</td>\n",
       "    </tr>\n",
       "    <tr>\n",
       "      <th>9974</th>\n",
       "      <td>6d2171d54c21240db2ba5200bccb1807</td>\n",
       "      <td>-33.419515</td>\n",
       "      <td>-70.589619</td>\n",
       "      <td>2019-10-18 22:28:00+00:00</td>\n",
       "      <td>True</td>\n",
       "      <td>008826a579c58010e4d611c1b4823972</td>\n",
       "      <td>30f8f6b940d1073d8b6a5eebc46dd6e5</td>\n",
       "      <td>NaN</td>\n",
       "      <td>0.000</td>\n",
       "      <td>1.0</td>\n",
       "      <td>...</td>\n",
       "      <td>4</td>\n",
       "      <td>fb89705ae6d743bf1e848c206e16a1d7</td>\n",
       "      <td>-33.391075</td>\n",
       "      <td>-70.571781</td>\n",
       "      <td>3.570</td>\n",
       "      <td>5.0</td>\n",
       "      <td>4</td>\n",
       "      <td>2019-10-18 22:28:00</td>\n",
       "      <td>22</td>\n",
       "      <td>18</td>\n",
       "    </tr>\n",
       "    <tr>\n",
       "      <th>9975</th>\n",
       "      <td>820cd6e4d4667ba2ef042641c5cae926</td>\n",
       "      <td>-33.435132</td>\n",
       "      <td>-70.608814</td>\n",
       "      <td>2019-10-18 20:53:00+00:00</td>\n",
       "      <td>True</td>\n",
       "      <td>bd1f9300b07f47ce054682777085cb9a</td>\n",
       "      <td>afda332245e2af431fb7b672a68b659d</td>\n",
       "      <td>84.933859</td>\n",
       "      <td>0.000</td>\n",
       "      <td>1.0</td>\n",
       "      <td>...</td>\n",
       "      <td>2</td>\n",
       "      <td>f033ab37c30201f73f142449d037028d</td>\n",
       "      <td>-33.383812</td>\n",
       "      <td>-70.573672</td>\n",
       "      <td>6.573</td>\n",
       "      <td>5.0</td>\n",
       "      <td>4</td>\n",
       "      <td>2019-10-18 20:53:00</td>\n",
       "      <td>20</td>\n",
       "      <td>18</td>\n",
       "    </tr>\n",
       "    <tr>\n",
       "      <th>9976</th>\n",
       "      <td>cd4b29e7f720a9dba4c99777c8f87b20</td>\n",
       "      <td>-33.387251</td>\n",
       "      <td>-70.591373</td>\n",
       "      <td>2019-10-18 20:04:00+00:00</td>\n",
       "      <td>True</td>\n",
       "      <td>6aaeb64310c132ed492b46078486c81e</td>\n",
       "      <td>c1e39d912d21c91dce811d6da9929ae8</td>\n",
       "      <td>NaN</td>\n",
       "      <td>0.000</td>\n",
       "      <td>1.0</td>\n",
       "      <td>...</td>\n",
       "      <td>2</td>\n",
       "      <td>a4a042cf4fd6bfb47701cbc8a1653ada</td>\n",
       "      <td>-33.417807</td>\n",
       "      <td>-70.607806</td>\n",
       "      <td>3.724</td>\n",
       "      <td>5.0</td>\n",
       "      <td>4</td>\n",
       "      <td>2019-10-18 20:04:00</td>\n",
       "      <td>20</td>\n",
       "      <td>18</td>\n",
       "    </tr>\n",
       "    <tr>\n",
       "      <th>9977</th>\n",
       "      <td>2fdfbd2ee65811661cc16b276eb33a8a</td>\n",
       "      <td>-33.415790</td>\n",
       "      <td>-70.564812</td>\n",
       "      <td>2019-10-18 19:32:00+00:00</td>\n",
       "      <td>True</td>\n",
       "      <td>7f44d9f9ea23a434358e1ff942693e94</td>\n",
       "      <td>9a49a25d845a483fae4be7e341368e36</td>\n",
       "      <td>44.399626</td>\n",
       "      <td>0.000</td>\n",
       "      <td>1.0</td>\n",
       "      <td>...</td>\n",
       "      <td>2</td>\n",
       "      <td>b534ba68236ba543ae44b22bd110a1d6</td>\n",
       "      <td>-33.379674</td>\n",
       "      <td>-70.538071</td>\n",
       "      <td>4.721</td>\n",
       "      <td>5.0</td>\n",
       "      <td>3</td>\n",
       "      <td>2019-10-18 19:32:00</td>\n",
       "      <td>19</td>\n",
       "      <td>18</td>\n",
       "    </tr>\n",
       "  </tbody>\n",
       "</table>\n",
       "<p>9978 rows × 25 columns</p>\n",
       "</div>"
      ],
      "text/plain": [
       "                              order_id    lat_cli    lng_cli  \\\n",
       "0     e750294655c2c7c34d83cc3181c09de4 -33.501675 -70.579369   \n",
       "1     3bb5d9adb3ecac1925b60d5d26a510c4 -33.491167 -70.571649   \n",
       "2     b838eea64cf24dde0a78ce1feb84ca7c -33.493406 -70.594164   \n",
       "3     2c85303190a77493348b0b827232f4d6 -33.487836 -70.572412   \n",
       "4     e606cc26b843c312df82a29d1f8d4372 -33.504759 -70.552168   \n",
       "...                                ...        ...        ...   \n",
       "9973  b1462a91b7fdedc7f6f6c117793d85c1 -33.526613 -70.595130   \n",
       "9974  6d2171d54c21240db2ba5200bccb1807 -33.419515 -70.589619   \n",
       "9975  820cd6e4d4667ba2ef042641c5cae926 -33.435132 -70.608814   \n",
       "9976  cd4b29e7f720a9dba4c99777c8f87b20 -33.387251 -70.591373   \n",
       "9977  2fdfbd2ee65811661cc16b276eb33a8a -33.415790 -70.564812   \n",
       "\n",
       "                  promised_time  on_demand                        shopper_id  \\\n",
       "0     2019-10-18 20:48:00+00:00       True  e63bc83a1a952fa2b3cc9d558fb943cf   \n",
       "1     2019-10-19 16:57:00+00:00       True  e63bc83a1a952fa2b3cc9d558fb943cf   \n",
       "2     2019-10-19 16:00:00+00:00      False  cb5ef07d15fb3981eeb6e0011bc80163   \n",
       "3     2019-10-19 19:00:00+00:00      False  ca54a789a8dc54742710490e25df9844   \n",
       "4     2019-10-19 00:00:00+00:00      False  362e274d254be8fae76396b8f10a7fd5   \n",
       "...                         ...        ...                               ...   \n",
       "9973  2019-10-18 19:10:00+00:00       True  e592fdb1d561cad1da5d99d1462eb711   \n",
       "9974  2019-10-18 22:28:00+00:00       True  008826a579c58010e4d611c1b4823972   \n",
       "9975  2019-10-18 20:53:00+00:00       True  bd1f9300b07f47ce054682777085cb9a   \n",
       "9976  2019-10-18 20:04:00+00:00       True  6aaeb64310c132ed492b46078486c81e   \n",
       "9977  2019-10-18 19:32:00+00:00       True  7f44d9f9ea23a434358e1ff942693e94   \n",
       "\n",
       "                       store_branch_id  total_minutes     KG     UN  ...  \\\n",
       "0     65ded5353c5ee48d0b7d48c591b8f430      67.684264  2.756   16.0  ...   \n",
       "1     65ded5353c5ee48d0b7d48c591b8f430     160.336211  2.900   63.0  ...   \n",
       "2     65ded5353c5ee48d0b7d48c591b8f430     122.239210  1.000  155.0  ...   \n",
       "3     65ded5353c5ee48d0b7d48c591b8f430     133.113926  7.646  115.0  ...   \n",
       "4     65ded5353c5ee48d0b7d48c591b8f430      94.734479  2.216   97.0  ...   \n",
       "...                                ...            ...    ...    ...  ...   \n",
       "9973  add217938e07bb1fd8796e0315b88c10      38.001058  0.000    1.0  ...   \n",
       "9974  30f8f6b940d1073d8b6a5eebc46dd6e5            NaN  0.000    1.0  ...   \n",
       "9975  afda332245e2af431fb7b672a68b659d      84.933859  0.000    1.0  ...   \n",
       "9976  c1e39d912d21c91dce811d6da9929ae8            NaN  0.000    1.0  ...   \n",
       "9977  9a49a25d845a483fae4be7e341368e36      44.399626  0.000    1.0  ...   \n",
       "\n",
       "     new_seniority                          store_id  lat_store  lng_store  \\\n",
       "0                3  c4ca4238a0b923820dcc509a6f75849b -33.485280 -70.579250   \n",
       "1                3  c4ca4238a0b923820dcc509a6f75849b -33.485280 -70.579250   \n",
       "2                3  c4ca4238a0b923820dcc509a6f75849b -33.485280 -70.579250   \n",
       "3                3  c4ca4238a0b923820dcc509a6f75849b -33.485280 -70.579250   \n",
       "4                2  c4ca4238a0b923820dcc509a6f75849b -33.485280 -70.579250   \n",
       "...            ...                               ...        ...        ...   \n",
       "9973             2  e369853df766fa44e1ed0ff613f563bd -33.517613 -70.598084   \n",
       "9974             4  fb89705ae6d743bf1e848c206e16a1d7 -33.391075 -70.571781   \n",
       "9975             2  f033ab37c30201f73f142449d037028d -33.383812 -70.573672   \n",
       "9976             2  a4a042cf4fd6bfb47701cbc8a1653ada -33.417807 -70.607806   \n",
       "9977             2  b534ba68236ba543ae44b22bd110a1d6 -33.379674 -70.538071   \n",
       "\n",
       "      distance_km  new_store_id tramo_dia                date  Hour  day  \n",
       "0           1.823           1.0         4 2019-10-18 20:48:00    20   18  \n",
       "1           0.962           1.0         3 2019-10-19 16:57:00    16   19  \n",
       "2           1.652           1.0         3 2019-10-19 16:00:00    16   19  \n",
       "3           0.695           1.0         3 2019-10-19 19:00:00    19   19  \n",
       "4           3.316           1.0         1 2019-10-19 00:00:00     0   19  \n",
       "...           ...           ...       ...                 ...   ...  ...  \n",
       "9973        1.038           5.0         3 2019-10-18 19:10:00    19   18  \n",
       "9974        3.570           5.0         4 2019-10-18 22:28:00    22   18  \n",
       "9975        6.573           5.0         4 2019-10-18 20:53:00    20   18  \n",
       "9976        3.724           5.0         4 2019-10-18 20:04:00    20   18  \n",
       "9977        4.721           5.0         3 2019-10-18 19:32:00    19   18  \n",
       "\n",
       "[9978 rows x 25 columns]"
      ]
     },
     "execution_count": 226,
     "metadata": {},
     "output_type": "execute_result"
    }
   ],
   "source": [
    "df['new_store_id'] = df['store_id'].copy()\n",
    "new_store_id = {'c4ca4238a0b923820dcc509a6f75849b': 1, \n",
    "                'a87ff679a2f3e71d9181a67b7542122c': 2,\n",
    "               '918317b57931b6b7a7d29490fe5ec9f9': 3,\n",
    "               '7647966b7343c29048673252e490f736': 4}\n",
    "\n",
    "df['new_store_id'] = df.new_store_id.map(new_store_id)\n",
    "df.loc[(df['new_store_id'] != 1) & (df['new_store_id'] != 2) & (df['new_store_id'] != 3) & (df['new_store_id'] != 4),'new_store_id'] = 5\n",
    "df"
   ]
  },
  {
   "cell_type": "code",
   "execution_count": 227,
   "metadata": {},
   "outputs": [
    {
     "data": {
      "text/html": [
       "<div>\n",
       "<style scoped>\n",
       "    .dataframe tbody tr th:only-of-type {\n",
       "        vertical-align: middle;\n",
       "    }\n",
       "\n",
       "    .dataframe tbody tr th {\n",
       "        vertical-align: top;\n",
       "    }\n",
       "\n",
       "    .dataframe thead th {\n",
       "        text-align: right;\n",
       "    }\n",
       "</style>\n",
       "<table border=\"1\" class=\"dataframe\">\n",
       "  <thead>\n",
       "    <tr style=\"text-align: right;\">\n",
       "      <th></th>\n",
       "      <th>new_store_id</th>\n",
       "      <th>order_id</th>\n",
       "    </tr>\n",
       "  </thead>\n",
       "  <tbody>\n",
       "    <tr>\n",
       "      <th>4</th>\n",
       "      <td>5.0</td>\n",
       "      <td>1350</td>\n",
       "    </tr>\n",
       "    <tr>\n",
       "      <th>3</th>\n",
       "      <td>4.0</td>\n",
       "      <td>107</td>\n",
       "    </tr>\n",
       "    <tr>\n",
       "      <th>2</th>\n",
       "      <td>3.0</td>\n",
       "      <td>124</td>\n",
       "    </tr>\n",
       "    <tr>\n",
       "      <th>1</th>\n",
       "      <td>2.0</td>\n",
       "      <td>699</td>\n",
       "    </tr>\n",
       "    <tr>\n",
       "      <th>0</th>\n",
       "      <td>1.0</td>\n",
       "      <td>7698</td>\n",
       "    </tr>\n",
       "  </tbody>\n",
       "</table>\n",
       "</div>"
      ],
      "text/plain": [
       "   new_store_id  order_id\n",
       "4           5.0      1350\n",
       "3           4.0       107\n",
       "2           3.0       124\n",
       "1           2.0       699\n",
       "0           1.0      7698"
      ]
     },
     "execution_count": 227,
     "metadata": {},
     "output_type": "execute_result"
    }
   ],
   "source": [
    "df.groupby('new_store_id').agg({'order_id':'count'}).reset_index().sort_values(by=['new_store_id'],ascending=False).head(10)"
   ]
  },
  {
   "cell_type": "markdown",
   "metadata": {},
   "source": [
    "## Promised time"
   ]
  },
  {
   "cell_type": "code",
   "execution_count": 35,
   "metadata": {},
   "outputs": [
    {
     "data": {
      "text/plain": [
       "0      2019-10-18 20:48:00\n",
       "1      2019-10-19 16:57:00\n",
       "2      2019-10-19 16:00:00\n",
       "3      2019-10-19 19:00:00\n",
       "4      2019-10-19 00:00:00\n",
       "               ...        \n",
       "9973   2019-10-18 19:10:00\n",
       "9974   2019-10-18 22:28:00\n",
       "9975   2019-10-18 20:53:00\n",
       "9976   2019-10-18 20:04:00\n",
       "9977   2019-10-18 19:32:00\n",
       "Name: date, Length: 9978, dtype: datetime64[ns]"
      ]
     },
     "execution_count": 35,
     "metadata": {},
     "output_type": "execute_result"
    }
   ],
   "source": [
    "df['date'] = pd.to_datetime(df.promised_time).dt.tz_localize(None)\n",
    "df.date"
   ]
  },
  {
   "cell_type": "code",
   "execution_count": 36,
   "metadata": {},
   "outputs": [
    {
     "name": "stdout",
     "output_type": "stream",
     "text": [
      "Days:  [18 19 20]\n",
      "Months:  [10]\n",
      "Hour: [20 16 19  0 18 21 17 13 23 22 14 15  1  2 12 11  3]\n"
     ]
    }
   ],
   "source": [
    "print('Days: ',df['date'].dt.day.unique())\n",
    "print('Months: ',df['date'].dt.month.unique())\n",
    "print('Hour:',df['date'].dt.hour.unique())"
   ]
  },
  {
   "cell_type": "raw",
   "metadata": {},
   "source": [
    "Al observar el campo promised_time, solo se cuentan con tres dias dentro de un mismo mes-año, por lo que nos concentraremos en analizar solo la hora. Este tiempo, nos puede entregar informacion en cuanto al trafico en las calles, lo que aumentaria el tiempo de delivery de ser en un horario peak."
   ]
  },
  {
   "cell_type": "code",
   "execution_count": 37,
   "metadata": {},
   "outputs": [],
   "source": [
    "df['Hour'] = round(df['date'].dt.hour,0)\n",
    "df['day'] = round(df['date'].dt.day,0)"
   ]
  },
  {
   "cell_type": "code",
   "execution_count": 40,
   "metadata": {
    "scrolled": true
   },
   "outputs": [
    {
     "data": {
      "text/plain": [
       "Text(0.5, 1.0, 'Bins = 7')"
      ]
     },
     "execution_count": 40,
     "metadata": {},
     "output_type": "execute_result"
    },
    {
     "data": {
      "image/png": "[encoded data removed]",
      "text/plain": [
       "<Figure size 1440x360 with 5 Axes>"
      ]
     },
     "metadata": {
      "needs_background": "light"
     },
     "output_type": "display_data"
    }
   ],
   "source": [
    "fig, axes = plt.subplots(1, 5,figsize=(20,5))\n",
    "df.hist('Hour',bins=3,ax= axes[0])\n",
    "df.hist('Hour',bins=4,ax= axes[1])\n",
    "df.hist('Hour',bins=5,ax= axes[2])\n",
    "df.hist('Hour',bins=6,ax= axes[3])\n",
    "df.hist('Hour',bins=7,ax= axes[4])\n",
    "axes[0].set_title('Bins = 3')\n",
    "axes[1].set_title('Bins = 4')\n",
    "axes[2].set_title('Bins = 5')\n",
    "axes[3].set_title('Bins = 6')\n",
    "axes[4].set_title('Bins = 7')\n"
   ]
  },
  {
   "cell_type": "raw",
   "metadata": {},
   "source": [
    "podemos observar que los pedidos se concentran en tres grandes bloques de tiempo:\n",
    "1) madrugada: 0:00-5:00\n",
    "2) mañana: 10:00-15:00\n",
    "3) tarde: 15:00-19:59\n",
    "4) noche: 20:00-23:59\n",
    "\n",
    "En este sentido, agregaremos esta variable como feature basado en estos cuatro bloques."
   ]
  },
  {
   "cell_type": "code",
   "execution_count": 41,
   "metadata": {},
   "outputs": [
    {
     "data": {
      "text/html": [
       "<div>\n",
       "<style scoped>\n",
       "    .dataframe tbody tr th:only-of-type {\n",
       "        vertical-align: middle;\n",
       "    }\n",
       "\n",
       "    .dataframe tbody tr th {\n",
       "        vertical-align: top;\n",
       "    }\n",
       "\n",
       "    .dataframe thead th {\n",
       "        text-align: right;\n",
       "    }\n",
       "</style>\n",
       "<table border=\"1\" class=\"dataframe\">\n",
       "  <thead>\n",
       "    <tr style=\"text-align: right;\">\n",
       "      <th></th>\n",
       "      <th>tramo_dia</th>\n",
       "      <th>order_id</th>\n",
       "    </tr>\n",
       "  </thead>\n",
       "  <tbody>\n",
       "    <tr>\n",
       "      <th>3</th>\n",
       "      <td>4</td>\n",
       "      <td>3350</td>\n",
       "    </tr>\n",
       "    <tr>\n",
       "      <th>2</th>\n",
       "      <td>3</td>\n",
       "      <td>4259</td>\n",
       "    </tr>\n",
       "    <tr>\n",
       "      <th>1</th>\n",
       "      <td>2</td>\n",
       "      <td>1100</td>\n",
       "    </tr>\n",
       "    <tr>\n",
       "      <th>0</th>\n",
       "      <td>1</td>\n",
       "      <td>1269</td>\n",
       "    </tr>\n",
       "  </tbody>\n",
       "</table>\n",
       "</div>"
      ],
      "text/plain": [
       "   tramo_dia  order_id\n",
       "3          4      3350\n",
       "2          3      4259\n",
       "1          2      1100\n",
       "0          1      1269"
      ]
     },
     "execution_count": 41,
     "metadata": {},
     "output_type": "execute_result"
    }
   ],
   "source": [
    "df['tramo_dia'] = int(0)\n",
    "df.loc[(df['Hour'] <= 6),'tramo_dia'] = 1\n",
    "df.loc[((df['Hour'] > 6) & (df['Hour'] < 15)),'tramo_dia'] = 2\n",
    "df.loc[(df['Hour'] >= 15) & (df['Hour'] < 20),'tramo_dia'] = 3\n",
    "df.loc[(df['Hour'] >= 20),'tramo_dia'] = 4\n",
    "df.groupby('tramo_dia').agg({'order_id':'count'}).reset_index().sort_values(by=['tramo_dia'],ascending=False).head(10)"
   ]
  },
  {
   "cell_type": "markdown",
   "metadata": {},
   "source": [
    "# Final Variables to be employed"
   ]
  },
  {
   "cell_type": "code",
   "execution_count": 42,
   "metadata": {},
   "outputs": [
    {
     "data": {
      "text/plain": [
       "Index(['order_id', 'lat_cli', 'lng_cli', 'promised_time', 'on_demand',\n",
       "       'shopper_id', 'store_branch_id', 'total_minutes', 'KG', 'UN',\n",
       "       'seniority', 'found_rate', 'picking_speed', 'accepted_rate', 'rating',\n",
       "       'new_seniority', 'store_id', 'lat_store', 'lng_store', 'distance_km',\n",
       "       'new_store_id', 'tramo_dia', 'date', 'Hour', 'day'],\n",
       "      dtype='object')"
      ]
     },
     "execution_count": 42,
     "metadata": {},
     "output_type": "execute_result"
    }
   ],
   "source": [
    "df.columns"
   ]
  },
  {
   "cell_type": "code",
   "execution_count": 228,
   "metadata": {},
   "outputs": [],
   "source": [
    "df_final = df.loc[:,['order_id','on_demand','KG','UN','new_seniority','found_rate','picking_speed',\n",
    "                     'accepted_rate','rating','distance_km','tramo_dia','new_store_id','total_minutes']]"
   ]
  },
  {
   "cell_type": "code",
   "execution_count": 229,
   "metadata": {},
   "outputs": [
    {
     "name": "stdout",
     "output_type": "stream",
     "text": [
      "<class 'pandas.core.frame.DataFrame'>\n",
      "Int64Index: 9978 entries, 0 to 9977\n",
      "Data columns (total 13 columns):\n",
      " #   Column         Non-Null Count  Dtype  \n",
      "---  ------         --------------  -----  \n",
      " 0   order_id       9978 non-null   object \n",
      " 1   on_demand      9978 non-null   bool   \n",
      " 2   KG             9978 non-null   float64\n",
      " 3   UN             9978 non-null   float64\n",
      " 4   new_seniority  9978 non-null   int64  \n",
      " 5   found_rate     9978 non-null   float64\n",
      " 6   picking_speed  9978 non-null   float64\n",
      " 7   accepted_rate  9978 non-null   float64\n",
      " 8   rating         9978 non-null   float64\n",
      " 9   distance_km    9978 non-null   float64\n",
      " 10  tramo_dia      9978 non-null   int64  \n",
      " 11  new_store_id   9978 non-null   float64\n",
      " 12  total_minutes  7983 non-null   float64\n",
      "dtypes: bool(1), float64(9), int64(2), object(1)\n",
      "memory usage: 1.3+ MB\n"
     ]
    }
   ],
   "source": [
    "df_final.info() "
   ]
  },
  {
   "cell_type": "markdown",
   "metadata": {},
   "source": [
    "# Training the model"
   ]
  },
  {
   "cell_type": "code",
   "execution_count": 230,
   "metadata": {},
   "outputs": [],
   "source": [
    "from sklearn.model_selection import train_test_split\n",
    "from sklearn import metrics\n",
    "from sklearn.preprocessing import StandardScaler"
   ]
  },
  {
   "cell_type": "code",
   "execution_count": 231,
   "metadata": {},
   "outputs": [],
   "source": [
    "data = df_final[df_final['total_minutes'].isnull() != True]\n",
    "train = data.iloc[:,1:12]\n",
    "test = data.total_minutes\n",
    "make_pred = df_final[df_final['total_minutes'].isnull() == True]\n",
    "make_pred = make_pred.iloc[:,:12]"
   ]
  },
  {
   "cell_type": "code",
   "execution_count": 232,
   "metadata": {},
   "outputs": [
    {
     "data": {
      "text/html": [
       "<div>\n",
       "<style scoped>\n",
       "    .dataframe tbody tr th:only-of-type {\n",
       "        vertical-align: middle;\n",
       "    }\n",
       "\n",
       "    .dataframe tbody tr th {\n",
       "        vertical-align: top;\n",
       "    }\n",
       "\n",
       "    .dataframe thead th {\n",
       "        text-align: right;\n",
       "    }\n",
       "</style>\n",
       "<table border=\"1\" class=\"dataframe\">\n",
       "  <thead>\n",
       "    <tr style=\"text-align: right;\">\n",
       "      <th></th>\n",
       "      <th>on_demand</th>\n",
       "      <th>KG</th>\n",
       "      <th>UN</th>\n",
       "      <th>new_seniority</th>\n",
       "      <th>found_rate</th>\n",
       "      <th>picking_speed</th>\n",
       "      <th>accepted_rate</th>\n",
       "      <th>rating</th>\n",
       "      <th>distance_km</th>\n",
       "      <th>tramo_dia</th>\n",
       "      <th>new_store_id</th>\n",
       "    </tr>\n",
       "  </thead>\n",
       "  <tbody>\n",
       "    <tr>\n",
       "      <th>0</th>\n",
       "      <td>True</td>\n",
       "      <td>2.756</td>\n",
       "      <td>16.0</td>\n",
       "      <td>3</td>\n",
       "      <td>0.9024</td>\n",
       "      <td>1.30</td>\n",
       "      <td>0.92</td>\n",
       "      <td>4.76</td>\n",
       "      <td>1.823</td>\n",
       "      <td>4</td>\n",
       "      <td>1.0</td>\n",
       "    </tr>\n",
       "    <tr>\n",
       "      <th>1</th>\n",
       "      <td>True</td>\n",
       "      <td>2.900</td>\n",
       "      <td>63.0</td>\n",
       "      <td>3</td>\n",
       "      <td>0.9024</td>\n",
       "      <td>1.30</td>\n",
       "      <td>0.92</td>\n",
       "      <td>4.76</td>\n",
       "      <td>0.962</td>\n",
       "      <td>3</td>\n",
       "      <td>1.0</td>\n",
       "    </tr>\n",
       "    <tr>\n",
       "      <th>2</th>\n",
       "      <td>False</td>\n",
       "      <td>1.000</td>\n",
       "      <td>155.0</td>\n",
       "      <td>3</td>\n",
       "      <td>0.8909</td>\n",
       "      <td>1.17</td>\n",
       "      <td>0.96</td>\n",
       "      <td>5.00</td>\n",
       "      <td>1.652</td>\n",
       "      <td>3</td>\n",
       "      <td>1.0</td>\n",
       "    </tr>\n",
       "    <tr>\n",
       "      <th>3</th>\n",
       "      <td>False</td>\n",
       "      <td>7.646</td>\n",
       "      <td>115.0</td>\n",
       "      <td>3</td>\n",
       "      <td>0.8462</td>\n",
       "      <td>1.11</td>\n",
       "      <td>0.96</td>\n",
       "      <td>4.96</td>\n",
       "      <td>0.695</td>\n",
       "      <td>3</td>\n",
       "      <td>1.0</td>\n",
       "    </tr>\n",
       "    <tr>\n",
       "      <th>4</th>\n",
       "      <td>False</td>\n",
       "      <td>2.216</td>\n",
       "      <td>97.0</td>\n",
       "      <td>2</td>\n",
       "      <td>0.8138</td>\n",
       "      <td>1.89</td>\n",
       "      <td>0.84</td>\n",
       "      <td>4.68</td>\n",
       "      <td>3.316</td>\n",
       "      <td>1</td>\n",
       "      <td>1.0</td>\n",
       "    </tr>\n",
       "  </tbody>\n",
       "</table>\n",
       "</div>"
      ],
      "text/plain": [
       "   on_demand     KG     UN  new_seniority  found_rate  picking_speed  \\\n",
       "0       True  2.756   16.0              3      0.9024           1.30   \n",
       "1       True  2.900   63.0              3      0.9024           1.30   \n",
       "2      False  1.000  155.0              3      0.8909           1.17   \n",
       "3      False  7.646  115.0              3      0.8462           1.11   \n",
       "4      False  2.216   97.0              2      0.8138           1.89   \n",
       "\n",
       "   accepted_rate  rating  distance_km  tramo_dia  new_store_id  \n",
       "0           0.92    4.76        1.823          4           1.0  \n",
       "1           0.92    4.76        0.962          3           1.0  \n",
       "2           0.96    5.00        1.652          3           1.0  \n",
       "3           0.96    4.96        0.695          3           1.0  \n",
       "4           0.84    4.68        3.316          1           1.0  "
      ]
     },
     "execution_count": 232,
     "metadata": {},
     "output_type": "execute_result"
    }
   ],
   "source": [
    "train.head()"
   ]
  },
  {
   "cell_type": "code",
   "execution_count": 233,
   "metadata": {},
   "outputs": [
    {
     "data": {
      "text/plain": [
       "0     67.684264\n",
       "1    160.336211\n",
       "2    122.239210\n",
       "3    133.113926\n",
       "4     94.734479\n",
       "Name: total_minutes, dtype: float64"
      ]
     },
     "execution_count": 233,
     "metadata": {},
     "output_type": "execute_result"
    }
   ],
   "source": [
    "test.head()"
   ]
  },
  {
   "cell_type": "code",
   "execution_count": 234,
   "metadata": {},
   "outputs": [
    {
     "data": {
      "text/html": [
       "<div>\n",
       "<style scoped>\n",
       "    .dataframe tbody tr th:only-of-type {\n",
       "        vertical-align: middle;\n",
       "    }\n",
       "\n",
       "    .dataframe tbody tr th {\n",
       "        vertical-align: top;\n",
       "    }\n",
       "\n",
       "    .dataframe thead th {\n",
       "        text-align: right;\n",
       "    }\n",
       "</style>\n",
       "<table border=\"1\" class=\"dataframe\">\n",
       "  <thead>\n",
       "    <tr style=\"text-align: right;\">\n",
       "      <th></th>\n",
       "      <th>order_id</th>\n",
       "      <th>on_demand</th>\n",
       "      <th>KG</th>\n",
       "      <th>UN</th>\n",
       "      <th>new_seniority</th>\n",
       "      <th>found_rate</th>\n",
       "      <th>picking_speed</th>\n",
       "      <th>accepted_rate</th>\n",
       "      <th>rating</th>\n",
       "      <th>distance_km</th>\n",
       "      <th>tramo_dia</th>\n",
       "      <th>new_store_id</th>\n",
       "    </tr>\n",
       "  </thead>\n",
       "  <tbody>\n",
       "    <tr>\n",
       "      <th>9</th>\n",
       "      <td>f629881954df817b768c981ad52c56ce</td>\n",
       "      <td>True</td>\n",
       "      <td>2.664</td>\n",
       "      <td>65.0</td>\n",
       "      <td>1</td>\n",
       "      <td>0.8671</td>\n",
       "      <td>2.50</td>\n",
       "      <td>1.00</td>\n",
       "      <td>5.00</td>\n",
       "      <td>0.915</td>\n",
       "      <td>3</td>\n",
       "      <td>1.0</td>\n",
       "    </tr>\n",
       "    <tr>\n",
       "      <th>11</th>\n",
       "      <td>4d322b65c5ff3c0ab5a68661fe499c33</td>\n",
       "      <td>True</td>\n",
       "      <td>0.000</td>\n",
       "      <td>54.0</td>\n",
       "      <td>3</td>\n",
       "      <td>0.8740</td>\n",
       "      <td>1.21</td>\n",
       "      <td>1.00</td>\n",
       "      <td>4.80</td>\n",
       "      <td>1.032</td>\n",
       "      <td>4</td>\n",
       "      <td>1.0</td>\n",
       "    </tr>\n",
       "    <tr>\n",
       "      <th>14</th>\n",
       "      <td>7ebab6283d87c169291afd709bd9b4d7</td>\n",
       "      <td>False</td>\n",
       "      <td>0.000</td>\n",
       "      <td>74.0</td>\n",
       "      <td>3</td>\n",
       "      <td>0.8827</td>\n",
       "      <td>1.50</td>\n",
       "      <td>1.00</td>\n",
       "      <td>4.44</td>\n",
       "      <td>4.099</td>\n",
       "      <td>3</td>\n",
       "      <td>1.0</td>\n",
       "    </tr>\n",
       "    <tr>\n",
       "      <th>16</th>\n",
       "      <td>123bb583303cacd65ae42cd85bdf7694</td>\n",
       "      <td>False</td>\n",
       "      <td>0.000</td>\n",
       "      <td>23.0</td>\n",
       "      <td>3</td>\n",
       "      <td>0.8447</td>\n",
       "      <td>1.41</td>\n",
       "      <td>0.88</td>\n",
       "      <td>4.92</td>\n",
       "      <td>1.799</td>\n",
       "      <td>3</td>\n",
       "      <td>1.0</td>\n",
       "    </tr>\n",
       "    <tr>\n",
       "      <th>24</th>\n",
       "      <td>f4b7a5bbd3582dc0fe1d85188e792860</td>\n",
       "      <td>False</td>\n",
       "      <td>0.000</td>\n",
       "      <td>8.0</td>\n",
       "      <td>3</td>\n",
       "      <td>0.8869</td>\n",
       "      <td>0.93</td>\n",
       "      <td>0.96</td>\n",
       "      <td>5.00</td>\n",
       "      <td>2.820</td>\n",
       "      <td>3</td>\n",
       "      <td>1.0</td>\n",
       "    </tr>\n",
       "  </tbody>\n",
       "</table>\n",
       "</div>"
      ],
      "text/plain": [
       "                            order_id  on_demand     KG    UN  new_seniority  \\\n",
       "9   f629881954df817b768c981ad52c56ce       True  2.664  65.0              1   \n",
       "11  4d322b65c5ff3c0ab5a68661fe499c33       True  0.000  54.0              3   \n",
       "14  7ebab6283d87c169291afd709bd9b4d7      False  0.000  74.0              3   \n",
       "16  123bb583303cacd65ae42cd85bdf7694      False  0.000  23.0              3   \n",
       "24  f4b7a5bbd3582dc0fe1d85188e792860      False  0.000   8.0              3   \n",
       "\n",
       "    found_rate  picking_speed  accepted_rate  rating  distance_km  tramo_dia  \\\n",
       "9       0.8671           2.50           1.00    5.00        0.915          3   \n",
       "11      0.8740           1.21           1.00    4.80        1.032          4   \n",
       "14      0.8827           1.50           1.00    4.44        4.099          3   \n",
       "16      0.8447           1.41           0.88    4.92        1.799          3   \n",
       "24      0.8869           0.93           0.96    5.00        2.820          3   \n",
       "\n",
       "    new_store_id  \n",
       "9            1.0  \n",
       "11           1.0  \n",
       "14           1.0  \n",
       "16           1.0  \n",
       "24           1.0  "
      ]
     },
     "execution_count": 234,
     "metadata": {},
     "output_type": "execute_result"
    }
   ],
   "source": [
    "make_pred.head()"
   ]
  },
  {
   "cell_type": "code",
   "execution_count": 235,
   "metadata": {},
   "outputs": [
    {
     "name": "stdout",
     "output_type": "stream",
     "text": [
      "Train: (5588, 11)\n",
      "Test: (2395, 11)\n"
     ]
    }
   ],
   "source": [
    "x_train, x_test, y_train, y_test = train_test_split(train,test, test_size = 0.3, random_state=123)\n",
    "print('Train:' ,x_train.shape)\n",
    "print('Test:' ,x_test.shape)"
   ]
  },
  {
   "cell_type": "code",
   "execution_count": 236,
   "metadata": {},
   "outputs": [
    {
     "data": {
      "text/html": [
       "<div>\n",
       "<style scoped>\n",
       "    .dataframe tbody tr th:only-of-type {\n",
       "        vertical-align: middle;\n",
       "    }\n",
       "\n",
       "    .dataframe tbody tr th {\n",
       "        vertical-align: top;\n",
       "    }\n",
       "\n",
       "    .dataframe thead th {\n",
       "        text-align: right;\n",
       "    }\n",
       "</style>\n",
       "<table border=\"1\" class=\"dataframe\">\n",
       "  <thead>\n",
       "    <tr style=\"text-align: right;\">\n",
       "      <th></th>\n",
       "      <th>on_demand</th>\n",
       "      <th>KG</th>\n",
       "      <th>UN</th>\n",
       "      <th>new_seniority</th>\n",
       "      <th>found_rate</th>\n",
       "      <th>picking_speed</th>\n",
       "      <th>accepted_rate</th>\n",
       "      <th>rating</th>\n",
       "      <th>distance_km</th>\n",
       "      <th>tramo_dia</th>\n",
       "      <th>new_store_id</th>\n",
       "    </tr>\n",
       "  </thead>\n",
       "  <tbody>\n",
       "    <tr>\n",
       "      <th>1631</th>\n",
       "      <td>True</td>\n",
       "      <td>3.010</td>\n",
       "      <td>39.0</td>\n",
       "      <td>3</td>\n",
       "      <td>0.9074</td>\n",
       "      <td>1.34</td>\n",
       "      <td>1.00</td>\n",
       "      <td>4.92</td>\n",
       "      <td>4.955</td>\n",
       "      <td>4</td>\n",
       "      <td>1.0</td>\n",
       "    </tr>\n",
       "    <tr>\n",
       "      <th>1598</th>\n",
       "      <td>True</td>\n",
       "      <td>1.258</td>\n",
       "      <td>42.0</td>\n",
       "      <td>3</td>\n",
       "      <td>0.8752</td>\n",
       "      <td>1.18</td>\n",
       "      <td>0.92</td>\n",
       "      <td>4.92</td>\n",
       "      <td>7.401</td>\n",
       "      <td>1</td>\n",
       "      <td>1.0</td>\n",
       "    </tr>\n",
       "    <tr>\n",
       "      <th>2354</th>\n",
       "      <td>False</td>\n",
       "      <td>5.665</td>\n",
       "      <td>62.0</td>\n",
       "      <td>3</td>\n",
       "      <td>0.8861</td>\n",
       "      <td>1.26</td>\n",
       "      <td>1.00</td>\n",
       "      <td>4.84</td>\n",
       "      <td>1.330</td>\n",
       "      <td>3</td>\n",
       "      <td>1.0</td>\n",
       "    </tr>\n",
       "  </tbody>\n",
       "</table>\n",
       "</div>"
      ],
      "text/plain": [
       "      on_demand     KG    UN  new_seniority  found_rate  picking_speed  \\\n",
       "1631       True  3.010  39.0              3      0.9074           1.34   \n",
       "1598       True  1.258  42.0              3      0.8752           1.18   \n",
       "2354      False  5.665  62.0              3      0.8861           1.26   \n",
       "\n",
       "      accepted_rate  rating  distance_km  tramo_dia  new_store_id  \n",
       "1631           1.00    4.92        4.955          4           1.0  \n",
       "1598           0.92    4.92        7.401          1           1.0  \n",
       "2354           1.00    4.84        1.330          3           1.0  "
      ]
     },
     "execution_count": 236,
     "metadata": {},
     "output_type": "execute_result"
    }
   ],
   "source": [
    "x_train[:3]"
   ]
  },
  {
   "cell_type": "code",
   "execution_count": 237,
   "metadata": {},
   "outputs": [],
   "source": [
    "norm = StandardScaler()\n",
    "\n",
    "x_train = norm.fit_transform(x_train)\n",
    "x_test = norm.transform(x_test)\n",
    "a = make_pred.iloc[:,1:]\n",
    "make_pred_2 = norm.transform(a)"
   ]
  },
  {
   "cell_type": "markdown",
   "metadata": {},
   "source": [
    "## Random Forest Regressor"
   ]
  },
  {
   "cell_type": "code",
   "execution_count": 281,
   "metadata": {},
   "outputs": [
    {
     "data": {
      "text/plain": [
       "RandomForestRegressor(max_depth=20, n_estimators=20, random_state=123)"
      ]
     },
     "execution_count": 281,
     "metadata": {},
     "output_type": "execute_result"
    }
   ],
   "source": [
    "from sklearn.ensemble import RandomForestRegressor\n",
    "from sklearn.inspection import permutation_importance\n",
    "\n",
    "rfg_model = RandomForestRegressor(n_estimators=20,\n",
    "                                  random_state=123,\n",
    "                                 max_depth= 20)\n",
    "rfg_model.fit(x_train, y_train)"
   ]
  },
  {
   "cell_type": "code",
   "execution_count": 282,
   "metadata": {},
   "outputs": [
    {
     "name": "stdout",
     "output_type": "stream",
     "text": [
      "Mean Absolute Error: 20.462659532214115\n",
      "Mean Squared Error: 721.9431801661086\n",
      "Root Mean Squared Error: 26.86900035665839\n"
     ]
    }
   ],
   "source": [
    "y_pred_rgf = rfg_model.predict(x_test)\n",
    "\n",
    "print('Mean Absolute Error:', metrics.mean_absolute_error(y_test, y_pred_rgf))\n",
    "print('Mean Squared Error:', metrics.mean_squared_error(y_test, y_pred_rgf))\n",
    "print('Root Mean Squared Error:', np.sqrt(metrics.mean_squared_error(y_test, y_pred_rgf)))"
   ]
  },
  {
   "cell_type": "code",
   "execution_count": 240,
   "metadata": {},
   "outputs": [
    {
     "name": "stdout",
     "output_type": "stream",
     "text": [
      "Feature: 0, Score: 291.02071\n",
      "Feature: 1, Score: 172.62678\n",
      "Feature: 2, Score: 1191.28906\n",
      "Feature: 3, Score: 20.02884\n",
      "Feature: 4, Score: 242.94966\n",
      "Feature: 5, Score: 459.08318\n",
      "Feature: 6, Score: 75.61015\n",
      "Feature: 7, Score: 92.68736\n",
      "Feature: 8, Score: 302.68067\n",
      "Feature: 9, Score: 137.79992\n",
      "Feature: 10, Score: 59.42934\n"
     ]
    },
    {
     "data": {
      "image/png": "[encoded data removed]",
      "text/plain": [
       "<Figure size 432x288 with 1 Axes>"
      ]
     },
     "metadata": {
      "needs_background": "light"
     },
     "output_type": "display_data"
    }
   ],
   "source": [
    "results = permutation_importance(rfg_model, x_train, y_train, scoring='neg_mean_squared_error')\n",
    "importance = results.importances_mean\n",
    "# summarize feature importance\n",
    "for i,v in enumerate(importance):\n",
    "    print('Feature: %0d, Score: %.5f' % (i,v))\n",
    "# plot feature importance\n",
    "plt.bar([x for x in range(len(importance))], importance)\n",
    "plt.show()"
   ]
  },
  {
   "cell_type": "code",
   "execution_count": 241,
   "metadata": {},
   "outputs": [
    {
     "name": "stdout",
     "output_type": "stream",
     "text": [
      "Mean Absolute Error: 20.596639366554424\n",
      "Mean Squared Error: 724.7024754992937\n",
      "Root Mean Squared Error: 26.920298577454403\n"
     ]
    }
   ],
   "source": [
    "rfg_model.fit(x_train[:,[0,1,2,4,5,8]], y_train)\n",
    "y_pred_rgf = rfg_model.predict(x_test[:,[0,1,2,4,5,8]])\n",
    "\n",
    "print('Mean Absolute Error:', metrics.mean_absolute_error(y_test, y_pred_rgf))\n",
    "print('Mean Squared Error:', metrics.mean_squared_error(y_test, y_pred_rgf))\n",
    "print('Root Mean Squared Error:', np.sqrt(metrics.mean_squared_error(y_test, y_pred_rgf)))"
   ]
  },
  {
   "cell_type": "markdown",
   "metadata": {},
   "source": [
    "Utilizaremos todas las variables, pero las mas relevantes para el modelo son on_demand, UN (# UN pedido), picking_speed y distance_km."
   ]
  },
  {
   "cell_type": "markdown",
   "metadata": {},
   "source": [
    "## SVR"
   ]
  },
  {
   "cell_type": "code",
   "execution_count": 287,
   "metadata": {},
   "outputs": [
    {
     "data": {
      "text/plain": [
       "SVR(C=10, epsilon=0.2)"
      ]
     },
     "execution_count": 287,
     "metadata": {},
     "output_type": "execute_result"
    }
   ],
   "source": [
    "from sklearn.svm import SVR\n",
    "\n",
    "svr_model = SVR(C=10,epsilon=0.2)\n",
    "svr_model.fit(x_train, y_train)"
   ]
  },
  {
   "cell_type": "code",
   "execution_count": 288,
   "metadata": {},
   "outputs": [
    {
     "name": "stdout",
     "output_type": "stream",
     "text": [
      "Mean Absolute Error: 19.550848645849925\n",
      "Mean Squared Error: 702.4763781425099\n",
      "Root Mean Squared Error: 26.504270941539026\n"
     ]
    }
   ],
   "source": [
    "y_pred_svr = svr_model.predict(x_test)\n",
    "\n",
    "print('Mean Absolute Error:', metrics.mean_absolute_error(y_test, y_pred_svr))\n",
    "print('Mean Squared Error:', metrics.mean_squared_error(y_test, y_pred_svr))\n",
    "print('Root Mean Squared Error:', np.sqrt(metrics.mean_squared_error(y_test, y_pred_svr)))"
   ]
  },
  {
   "cell_type": "code",
   "execution_count": 204,
   "metadata": {},
   "outputs": [
    {
     "name": "stdout",
     "output_type": "stream",
     "text": [
      "Feature: 0, Score: 115.54259\n",
      "Feature: 1, Score: 41.67324\n",
      "Feature: 2, Score: 526.91008\n",
      "Feature: 3, Score: 21.60008\n",
      "Feature: 4, Score: 31.71167\n",
      "Feature: 5, Score: 136.35097\n",
      "Feature: 6, Score: 16.51508\n",
      "Feature: 7, Score: 20.41387\n",
      "Feature: 8, Score: 72.32923\n",
      "Feature: 9, Score: 46.17453\n",
      "Feature: 10, Score: 47.29410\n"
     ]
    },
    {
     "data": {
      "image/png": "[encoded data removed]",
      "text/plain": [
       "<Figure size 432x288 with 1 Axes>"
      ]
     },
     "metadata": {
      "needs_background": "light"
     },
     "output_type": "display_data"
    }
   ],
   "source": [
    "results = permutation_importance(svr_model, x_train, y_train, scoring='neg_mean_squared_error')\n",
    "importance = results.importances_mean\n",
    "# summarize feature importance\n",
    "for i,v in enumerate(importance):\n",
    "    print('Feature: %0d, Score: %.5f' % (i,v))\n",
    "# plot feature importance\n",
    "plt.bar([x for x in range(len(importance))], importance)\n",
    "plt.show()"
   ]
  },
  {
   "cell_type": "code",
   "execution_count": 194,
   "metadata": {},
   "outputs": [
    {
     "name": "stdout",
     "output_type": "stream",
     "text": [
      "Mean Absolute Error: 19.960071765382065\n",
      "Mean Squared Error: 738.3742038285811\n",
      "Root Mean Squared Error: 27.173041858220092\n"
     ]
    }
   ],
   "source": [
    "svr_model.fit(x_train[:,[0,2,5,8]], y_train)\n",
    "y_pred_svr = svr_model.predict(x_test[:,[0,2,5,8]])\n",
    "\n",
    "print('Mean Absolute Error:', metrics.mean_absolute_error(y_test, y_pred_svr))\n",
    "print('Mean Squared Error:', metrics.mean_squared_error(y_test, y_pred_svr))\n",
    "print('Root Mean Squared Error:', np.sqrt(metrics.mean_squared_error(y_test, y_pred_svr)))"
   ]
  },
  {
   "cell_type": "raw",
   "metadata": {},
   "source": [
    "Utilizaremos todas las variables, pero las mas relevantes para el modelo son on_demand, UN (# UN pedido) y picking_speed."
   ]
  },
  {
   "cell_type": "markdown",
   "metadata": {},
   "source": [
    "## Ridge Regression"
   ]
  },
  {
   "cell_type": "code",
   "execution_count": 289,
   "metadata": {},
   "outputs": [
    {
     "data": {
      "text/plain": [
       "Ridge(alpha=10)"
      ]
     },
     "execution_count": 289,
     "metadata": {},
     "output_type": "execute_result"
    }
   ],
   "source": [
    "from sklearn.linear_model import Ridge\n",
    "\n",
    "r_model = Ridge(alpha=10)\n",
    "r_model.fit(x_train, y_train)"
   ]
  },
  {
   "cell_type": "code",
   "execution_count": 290,
   "metadata": {},
   "outputs": [
    {
     "name": "stdout",
     "output_type": "stream",
     "text": [
      "Mean Absolute Error: 20.23045336042372\n",
      "Mean Squared Error: 700.8287014533914\n",
      "Root Mean Squared Error: 26.473169463692695\n"
     ]
    }
   ],
   "source": [
    "y_pred_r = r_model.predict(x_test)\n",
    "\n",
    "print('Mean Absolute Error:', metrics.mean_absolute_error(y_test, y_pred_r))\n",
    "print('Mean Squared Error:', metrics.mean_squared_error(y_test, y_pred_r))\n",
    "print('Root Mean Squared Error:', np.sqrt(metrics.mean_squared_error(y_test, y_pred_r)))"
   ]
  },
  {
   "cell_type": "code",
   "execution_count": 198,
   "metadata": {},
   "outputs": [
    {
     "name": "stdout",
     "output_type": "stream",
     "text": [
      "Feature: 0, Score: 94.34294\n",
      "Feature: 1, Score: 26.04541\n",
      "Feature: 2, Score: 501.62691\n",
      "Feature: 3, Score: 0.33700\n",
      "Feature: 4, Score: 19.53662\n",
      "Feature: 5, Score: 79.21492\n",
      "Feature: 6, Score: 0.65218\n",
      "Feature: 7, Score: -0.01759\n",
      "Feature: 8, Score: 45.36585\n",
      "Feature: 9, Score: 9.63778\n",
      "Feature: 10, Score: 25.86743\n"
     ]
    },
    {
     "data": {
      "image/png": "[encoded data removed]",
      "text/plain": [
       "<Figure size 432x288 with 1 Axes>"
      ]
     },
     "metadata": {
      "needs_background": "light"
     },
     "output_type": "display_data"
    }
   ],
   "source": [
    "results = permutation_importance(r_model, x_train, y_train, scoring='neg_mean_squared_error')\n",
    "importance = results.importances_mean\n",
    "# summarize feature importance\n",
    "for i,v in enumerate(importance):\n",
    "    print('Feature: %0d, Score: %.5f' % (i,v))\n",
    "# plot feature importance\n",
    "plt.bar([x for x in range(len(importance))], importance)\n",
    "plt.show()"
   ]
  },
  {
   "cell_type": "code",
   "execution_count": 201,
   "metadata": {},
   "outputs": [
    {
     "name": "stdout",
     "output_type": "stream",
     "text": [
      "Mean Absolute Error: 20.362125734732746\n",
      "Mean Squared Error: 708.4830371303673\n",
      "Root Mean Squared Error: 26.617344667159557\n"
     ]
    }
   ],
   "source": [
    "r_model.fit(x_train[:,[0,1,2,4,5,8,9,10]], y_train)\n",
    "y_pred_r = r_model.predict(x_test[:,[0,1,2,4,5,8,9,10]])\n",
    "\n",
    "print('Mean Absolute Error:', metrics.mean_absolute_error(y_test, y_pred_r))\n",
    "print('Mean Squared Error:', metrics.mean_squared_error(y_test, y_pred_r))\n",
    "print('Root Mean Squared Error:', np.sqrt(metrics.mean_squared_error(y_test, y_pred_r)))"
   ]
  },
  {
   "cell_type": "markdown",
   "metadata": {},
   "source": [
    "## Elastic Net"
   ]
  },
  {
   "cell_type": "code",
   "execution_count": 306,
   "metadata": {},
   "outputs": [
    {
     "data": {
      "text/plain": [
       "ElasticNet(alpha=0.001)"
      ]
     },
     "execution_count": 306,
     "metadata": {},
     "output_type": "execute_result"
    }
   ],
   "source": [
    "from sklearn.linear_model import ElasticNet \n",
    "  \n",
    "# Train the model \n",
    "e_net = ElasticNet(alpha = 0.001) \n",
    "e_net.fit(x_train, y_train)"
   ]
  },
  {
   "cell_type": "code",
   "execution_count": 307,
   "metadata": {},
   "outputs": [
    {
     "name": "stdout",
     "output_type": "stream",
     "text": [
      "Mean Absolute Error: 20.229412900269388\n",
      "Mean Squared Error: 700.8269663450425\n",
      "Root Mean Squared Error: 26.47313669259921\n"
     ]
    }
   ],
   "source": [
    "y_pred_el = e_net.predict(x_test)\n",
    "\n",
    "print('Mean Absolute Error:', metrics.mean_absolute_error(y_test, y_pred_el))\n",
    "print('Mean Squared Error:', metrics.mean_squared_error(y_test, y_pred_el))\n",
    "print('Root Mean Squared Error:', np.sqrt(metrics.mean_squared_error(y_test, y_pred_el)))"
   ]
  },
  {
   "cell_type": "code",
   "execution_count": 308,
   "metadata": {},
   "outputs": [
    {
     "name": "stdout",
     "output_type": "stream",
     "text": [
      "Feature: 0, Score: 97.82201\n",
      "Feature: 1, Score: 23.42396\n",
      "Feature: 2, Score: 463.44383\n",
      "Feature: 3, Score: 0.16794\n",
      "Feature: 4, Score: 20.96580\n",
      "Feature: 5, Score: 82.50593\n",
      "Feature: 6, Score: 1.18913\n",
      "Feature: 7, Score: 0.02460\n",
      "Feature: 8, Score: 44.05829\n",
      "Feature: 9, Score: 9.55476\n",
      "Feature: 10, Score: 39.62382\n"
     ]
    },
    {
     "data": {
      "image/png": "[encoded data removed]",
      "text/plain": [
       "<Figure size 432x288 with 1 Axes>"
      ]
     },
     "metadata": {
      "needs_background": "light"
     },
     "output_type": "display_data"
    }
   ],
   "source": [
    "results = permutation_importance(e_net, x_train, y_train, scoring='neg_mean_squared_error')\n",
    "importance = results.importances_mean\n",
    "# summarize feature importance\n",
    "for i,v in enumerate(importance):\n",
    "    print('Feature: %0d, Score: %.5f' % (i,v))\n",
    "# plot feature importance\n",
    "plt.bar([x for x in range(len(importance))], importance)\n",
    "plt.show()"
   ]
  },
  {
   "cell_type": "markdown",
   "metadata": {},
   "source": [
    "# Errores del modelo"
   ]
  },
  {
   "cell_type": "markdown",
   "metadata": {},
   "source": [
    "## Ridge Model"
   ]
  },
  {
   "cell_type": "code",
   "execution_count": 283,
   "metadata": {},
   "outputs": [
    {
     "data": {
      "text/html": [
       "<div>\n",
       "<style scoped>\n",
       "    .dataframe tbody tr th:only-of-type {\n",
       "        vertical-align: middle;\n",
       "    }\n",
       "\n",
       "    .dataframe tbody tr th {\n",
       "        vertical-align: top;\n",
       "    }\n",
       "\n",
       "    .dataframe thead th {\n",
       "        text-align: right;\n",
       "    }\n",
       "</style>\n",
       "<table border=\"1\" class=\"dataframe\">\n",
       "  <thead>\n",
       "    <tr style=\"text-align: right;\">\n",
       "      <th></th>\n",
       "      <th>prediction</th>\n",
       "      <th>total_minutes</th>\n",
       "      <th>diferencia</th>\n",
       "    </tr>\n",
       "  </thead>\n",
       "  <tbody>\n",
       "    <tr>\n",
       "      <th>0</th>\n",
       "      <td>67.882338</td>\n",
       "      <td>66.825070</td>\n",
       "      <td>1.057268</td>\n",
       "    </tr>\n",
       "    <tr>\n",
       "      <th>1</th>\n",
       "      <td>93.637873</td>\n",
       "      <td>127.002258</td>\n",
       "      <td>-33.364385</td>\n",
       "    </tr>\n",
       "    <tr>\n",
       "      <th>2</th>\n",
       "      <td>81.101655</td>\n",
       "      <td>62.860272</td>\n",
       "      <td>18.241382</td>\n",
       "    </tr>\n",
       "    <tr>\n",
       "      <th>3</th>\n",
       "      <td>91.394116</td>\n",
       "      <td>101.506607</td>\n",
       "      <td>-10.112491</td>\n",
       "    </tr>\n",
       "    <tr>\n",
       "      <th>4</th>\n",
       "      <td>58.306568</td>\n",
       "      <td>52.070097</td>\n",
       "      <td>6.236471</td>\n",
       "    </tr>\n",
       "  </tbody>\n",
       "</table>\n",
       "</div>"
      ],
      "text/plain": [
       "   prediction  total_minutes  diferencia\n",
       "0   67.882338      66.825070    1.057268\n",
       "1   93.637873     127.002258  -33.364385\n",
       "2   81.101655      62.860272   18.241382\n",
       "3   91.394116     101.506607  -10.112491\n",
       "4   58.306568      52.070097    6.236471"
      ]
     },
     "execution_count": 283,
     "metadata": {},
     "output_type": "execute_result"
    }
   ],
   "source": [
    "df_r = pd.DataFrame(y_pred_r,columns=['prediction'])\n",
    "df_r['total_minutes'] =  y_test.tolist()\n",
    "df_r['diferencia'] =  df_r.prediction - df_r.total_minutes\n",
    "df_r.head()"
   ]
  },
  {
   "cell_type": "code",
   "execution_count": 284,
   "metadata": {},
   "outputs": [
    {
     "data": {
      "text/html": [
       "<div>\n",
       "<style scoped>\n",
       "    .dataframe tbody tr th:only-of-type {\n",
       "        vertical-align: middle;\n",
       "    }\n",
       "\n",
       "    .dataframe tbody tr th {\n",
       "        vertical-align: top;\n",
       "    }\n",
       "\n",
       "    .dataframe thead tr th {\n",
       "        text-align: left;\n",
       "    }\n",
       "\n",
       "    .dataframe thead tr:last-of-type th {\n",
       "        text-align: right;\n",
       "    }\n",
       "</style>\n",
       "<table border=\"1\" class=\"dataframe\">\n",
       "  <thead>\n",
       "    <tr>\n",
       "      <th></th>\n",
       "      <th colspan=\"3\" halign=\"left\">diferencia</th>\n",
       "    </tr>\n",
       "    <tr>\n",
       "      <th></th>\n",
       "      <th>count</th>\n",
       "      <th>mean</th>\n",
       "      <th>std</th>\n",
       "    </tr>\n",
       "    <tr>\n",
       "      <th>tramo_err</th>\n",
       "      <th></th>\n",
       "      <th></th>\n",
       "      <th></th>\n",
       "    </tr>\n",
       "  </thead>\n",
       "  <tbody>\n",
       "    <tr>\n",
       "      <th>&lt;= -10</th>\n",
       "      <td>688</td>\n",
       "      <td>-32.218085</td>\n",
       "      <td>21.617910</td>\n",
       "    </tr>\n",
       "    <tr>\n",
       "      <th>&gt; 10</th>\n",
       "      <td>979</td>\n",
       "      <td>23.484503</td>\n",
       "      <td>9.821068</td>\n",
       "    </tr>\n",
       "    <tr>\n",
       "      <th>]-10,10]</th>\n",
       "      <td>728</td>\n",
       "      <td>0.478884</td>\n",
       "      <td>5.675853</td>\n",
       "    </tr>\n",
       "  </tbody>\n",
       "</table>\n",
       "</div>"
      ],
      "text/plain": [
       "          diferencia                      \n",
       "               count       mean        std\n",
       "tramo_err                                 \n",
       "<= -10           688 -32.218085  21.617910\n",
       "> 10             979  23.484503   9.821068\n",
       "]-10,10]         728   0.478884   5.675853"
      ]
     },
     "execution_count": 284,
     "metadata": {},
     "output_type": "execute_result"
    }
   ],
   "source": [
    "df_r['tramo_err'] = ''\n",
    "df_r.loc[(df_r['diferencia'] <= -10),'tramo_err'] = '<= -10'\n",
    "df_r.loc[(df_r['diferencia'] > -10) & (df_r['diferencia'] <= 10),'tramo_err'] = ']-10,10]'\n",
    "df_r.loc[(df_r['diferencia'] > 10),'tramo_err'] = '> 10'\n",
    "df_r.groupby('tramo_err').agg(['count','mean','std'])[['diferencia']]"
   ]
  },
  {
   "cell_type": "markdown",
   "metadata": {},
   "source": [
    "## SVR"
   ]
  },
  {
   "cell_type": "code",
   "execution_count": 285,
   "metadata": {},
   "outputs": [
    {
     "data": {
      "text/html": [
       "<div>\n",
       "<style scoped>\n",
       "    .dataframe tbody tr th:only-of-type {\n",
       "        vertical-align: middle;\n",
       "    }\n",
       "\n",
       "    .dataframe tbody tr th {\n",
       "        vertical-align: top;\n",
       "    }\n",
       "\n",
       "    .dataframe thead th {\n",
       "        text-align: right;\n",
       "    }\n",
       "</style>\n",
       "<table border=\"1\" class=\"dataframe\">\n",
       "  <thead>\n",
       "    <tr style=\"text-align: right;\">\n",
       "      <th></th>\n",
       "      <th>prediction</th>\n",
       "      <th>total_minutes</th>\n",
       "      <th>diferencia</th>\n",
       "    </tr>\n",
       "  </thead>\n",
       "  <tbody>\n",
       "    <tr>\n",
       "      <th>0</th>\n",
       "      <td>79.003181</td>\n",
       "      <td>66.825070</td>\n",
       "      <td>1.057268</td>\n",
       "    </tr>\n",
       "    <tr>\n",
       "      <th>1</th>\n",
       "      <td>81.071620</td>\n",
       "      <td>127.002258</td>\n",
       "      <td>-33.364385</td>\n",
       "    </tr>\n",
       "    <tr>\n",
       "      <th>2</th>\n",
       "      <td>78.461495</td>\n",
       "      <td>62.860272</td>\n",
       "      <td>18.241382</td>\n",
       "    </tr>\n",
       "    <tr>\n",
       "      <th>3</th>\n",
       "      <td>82.250937</td>\n",
       "      <td>101.506607</td>\n",
       "      <td>-10.112491</td>\n",
       "    </tr>\n",
       "    <tr>\n",
       "      <th>4</th>\n",
       "      <td>58.137814</td>\n",
       "      <td>52.070097</td>\n",
       "      <td>6.236471</td>\n",
       "    </tr>\n",
       "  </tbody>\n",
       "</table>\n",
       "</div>"
      ],
      "text/plain": [
       "   prediction  total_minutes  diferencia\n",
       "0   79.003181      66.825070    1.057268\n",
       "1   81.071620     127.002258  -33.364385\n",
       "2   78.461495      62.860272   18.241382\n",
       "3   82.250937     101.506607  -10.112491\n",
       "4   58.137814      52.070097    6.236471"
      ]
     },
     "execution_count": 285,
     "metadata": {},
     "output_type": "execute_result"
    }
   ],
   "source": [
    "df_svr = pd.DataFrame(y_pred_svr,columns=['prediction'])\n",
    "df_svr['total_minutes'] =  y_test.tolist()\n",
    "df_svr['diferencia'] =  df_r.prediction - df_r.total_minutes\n",
    "df_svr.head()"
   ]
  },
  {
   "cell_type": "code",
   "execution_count": 278,
   "metadata": {},
   "outputs": [
    {
     "data": {
      "text/html": [
       "<div>\n",
       "<style scoped>\n",
       "    .dataframe tbody tr th:only-of-type {\n",
       "        vertical-align: middle;\n",
       "    }\n",
       "\n",
       "    .dataframe tbody tr th {\n",
       "        vertical-align: top;\n",
       "    }\n",
       "\n",
       "    .dataframe thead tr th {\n",
       "        text-align: left;\n",
       "    }\n",
       "\n",
       "    .dataframe thead tr:last-of-type th {\n",
       "        text-align: right;\n",
       "    }\n",
       "</style>\n",
       "<table border=\"1\" class=\"dataframe\">\n",
       "  <thead>\n",
       "    <tr>\n",
       "      <th></th>\n",
       "      <th colspan=\"3\" halign=\"left\">diferencia</th>\n",
       "    </tr>\n",
       "    <tr>\n",
       "      <th></th>\n",
       "      <th>count</th>\n",
       "      <th>mean</th>\n",
       "      <th>std</th>\n",
       "    </tr>\n",
       "    <tr>\n",
       "      <th>tramo_err</th>\n",
       "      <th></th>\n",
       "      <th></th>\n",
       "      <th></th>\n",
       "    </tr>\n",
       "  </thead>\n",
       "  <tbody>\n",
       "    <tr>\n",
       "      <th>&lt;= -10</th>\n",
       "      <td>688</td>\n",
       "      <td>-32.218085</td>\n",
       "      <td>21.617910</td>\n",
       "    </tr>\n",
       "    <tr>\n",
       "      <th>&gt; 10</th>\n",
       "      <td>979</td>\n",
       "      <td>23.484503</td>\n",
       "      <td>9.821068</td>\n",
       "    </tr>\n",
       "    <tr>\n",
       "      <th>]-10,10]</th>\n",
       "      <td>728</td>\n",
       "      <td>0.478884</td>\n",
       "      <td>5.675853</td>\n",
       "    </tr>\n",
       "  </tbody>\n",
       "</table>\n",
       "</div>"
      ],
      "text/plain": [
       "          diferencia                      \n",
       "               count       mean        std\n",
       "tramo_err                                 \n",
       "<= -10           688 -32.218085  21.617910\n",
       "> 10             979  23.484503   9.821068\n",
       "]-10,10]         728   0.478884   5.675853"
      ]
     },
     "execution_count": 278,
     "metadata": {},
     "output_type": "execute_result"
    }
   ],
   "source": [
    "df_svr['tramo_err'] = ''\n",
    "df_svr.loc[(df_svr['diferencia'] <= -10),'tramo_err'] = '<= -10'\n",
    "df_svr.loc[(df_svr['diferencia'] > -10) & (df_svr['diferencia'] <= 10),'tramo_err'] = ']-10,10]'\n",
    "df_svr.loc[(df_svr['diferencia'] > 10),'tramo_err'] = '> 10'\n",
    "df_svr.groupby('tramo_err').agg(['count','mean','std'])[['diferencia']]"
   ]
  },
  {
   "cell_type": "markdown",
   "metadata": {},
   "source": [
    "## Elastic"
   ]
  },
  {
   "cell_type": "code",
   "execution_count": 309,
   "metadata": {},
   "outputs": [
    {
     "data": {
      "text/html": [
       "<div>\n",
       "<style scoped>\n",
       "    .dataframe tbody tr th:only-of-type {\n",
       "        vertical-align: middle;\n",
       "    }\n",
       "\n",
       "    .dataframe tbody tr th {\n",
       "        vertical-align: top;\n",
       "    }\n",
       "\n",
       "    .dataframe thead th {\n",
       "        text-align: right;\n",
       "    }\n",
       "</style>\n",
       "<table border=\"1\" class=\"dataframe\">\n",
       "  <thead>\n",
       "    <tr style=\"text-align: right;\">\n",
       "      <th></th>\n",
       "      <th>total_minutes</th>\n",
       "      <th>prediction</th>\n",
       "      <th>diferencia</th>\n",
       "    </tr>\n",
       "  </thead>\n",
       "  <tbody>\n",
       "    <tr>\n",
       "      <th>0</th>\n",
       "      <td>69.756522</td>\n",
       "      <td>66.825070</td>\n",
       "      <td>-1.057268</td>\n",
       "    </tr>\n",
       "    <tr>\n",
       "      <th>1</th>\n",
       "      <td>93.528707</td>\n",
       "      <td>127.002258</td>\n",
       "      <td>33.364385</td>\n",
       "    </tr>\n",
       "    <tr>\n",
       "      <th>2</th>\n",
       "      <td>80.977500</td>\n",
       "      <td>62.860272</td>\n",
       "      <td>-18.241382</td>\n",
       "    </tr>\n",
       "    <tr>\n",
       "      <th>3</th>\n",
       "      <td>91.248815</td>\n",
       "      <td>101.506607</td>\n",
       "      <td>10.112491</td>\n",
       "    </tr>\n",
       "    <tr>\n",
       "      <th>4</th>\n",
       "      <td>60.196600</td>\n",
       "      <td>52.070097</td>\n",
       "      <td>-6.236471</td>\n",
       "    </tr>\n",
       "  </tbody>\n",
       "</table>\n",
       "</div>"
      ],
      "text/plain": [
       "   total_minutes  prediction  diferencia\n",
       "0      69.756522   66.825070   -1.057268\n",
       "1      93.528707  127.002258   33.364385\n",
       "2      80.977500   62.860272  -18.241382\n",
       "3      91.248815  101.506607   10.112491\n",
       "4      60.196600   52.070097   -6.236471"
      ]
     },
     "execution_count": 309,
     "metadata": {},
     "output_type": "execute_result"
    }
   ],
   "source": [
    "df_svr = pd.DataFrame(y_pred_el,columns=['total_minutes'])\n",
    "df_svr['prediction'] =  y_test.tolist()\n",
    "df_svr['diferencia'] =  df_r.total_minutes - df_r.prediction\n",
    "df_svr.head()"
   ]
  },
  {
   "cell_type": "markdown",
   "metadata": {},
   "source": [
    "# Final Prediction"
   ]
  },
  {
   "cell_type": "code",
   "execution_count": 291,
   "metadata": {},
   "outputs": [
    {
     "data": {
      "text/html": [
       "<div>\n",
       "<style scoped>\n",
       "    .dataframe tbody tr th:only-of-type {\n",
       "        vertical-align: middle;\n",
       "    }\n",
       "\n",
       "    .dataframe tbody tr th {\n",
       "        vertical-align: top;\n",
       "    }\n",
       "\n",
       "    .dataframe thead th {\n",
       "        text-align: right;\n",
       "    }\n",
       "</style>\n",
       "<table border=\"1\" class=\"dataframe\">\n",
       "  <thead>\n",
       "    <tr style=\"text-align: right;\">\n",
       "      <th></th>\n",
       "      <th>order_id</th>\n",
       "      <th>on_demand</th>\n",
       "      <th>KG</th>\n",
       "      <th>UN</th>\n",
       "      <th>new_seniority</th>\n",
       "      <th>found_rate</th>\n",
       "      <th>picking_speed</th>\n",
       "      <th>accepted_rate</th>\n",
       "      <th>rating</th>\n",
       "      <th>distance_km</th>\n",
       "      <th>tramo_dia</th>\n",
       "      <th>new_store_id</th>\n",
       "      <th>prediction</th>\n",
       "    </tr>\n",
       "  </thead>\n",
       "  <tbody>\n",
       "    <tr>\n",
       "      <th>9</th>\n",
       "      <td>f629881954df817b768c981ad52c56ce</td>\n",
       "      <td>True</td>\n",
       "      <td>2.664</td>\n",
       "      <td>65.0</td>\n",
       "      <td>1</td>\n",
       "      <td>0.8671</td>\n",
       "      <td>2.50</td>\n",
       "      <td>1.00</td>\n",
       "      <td>5.00</td>\n",
       "      <td>0.915</td>\n",
       "      <td>3</td>\n",
       "      <td>1.0</td>\n",
       "      <td>110.516058</td>\n",
       "    </tr>\n",
       "    <tr>\n",
       "      <th>11</th>\n",
       "      <td>4d322b65c5ff3c0ab5a68661fe499c33</td>\n",
       "      <td>True</td>\n",
       "      <td>0.000</td>\n",
       "      <td>54.0</td>\n",
       "      <td>3</td>\n",
       "      <td>0.8740</td>\n",
       "      <td>1.21</td>\n",
       "      <td>1.00</td>\n",
       "      <td>4.80</td>\n",
       "      <td>1.032</td>\n",
       "      <td>4</td>\n",
       "      <td>1.0</td>\n",
       "      <td>62.711290</td>\n",
       "    </tr>\n",
       "    <tr>\n",
       "      <th>14</th>\n",
       "      <td>7ebab6283d87c169291afd709bd9b4d7</td>\n",
       "      <td>False</td>\n",
       "      <td>0.000</td>\n",
       "      <td>74.0</td>\n",
       "      <td>3</td>\n",
       "      <td>0.8827</td>\n",
       "      <td>1.50</td>\n",
       "      <td>1.00</td>\n",
       "      <td>4.44</td>\n",
       "      <td>4.099</td>\n",
       "      <td>3</td>\n",
       "      <td>1.0</td>\n",
       "      <td>104.166374</td>\n",
       "    </tr>\n",
       "    <tr>\n",
       "      <th>16</th>\n",
       "      <td>123bb583303cacd65ae42cd85bdf7694</td>\n",
       "      <td>False</td>\n",
       "      <td>0.000</td>\n",
       "      <td>23.0</td>\n",
       "      <td>3</td>\n",
       "      <td>0.8447</td>\n",
       "      <td>1.41</td>\n",
       "      <td>0.88</td>\n",
       "      <td>4.92</td>\n",
       "      <td>1.799</td>\n",
       "      <td>3</td>\n",
       "      <td>1.0</td>\n",
       "      <td>74.679683</td>\n",
       "    </tr>\n",
       "    <tr>\n",
       "      <th>24</th>\n",
       "      <td>f4b7a5bbd3582dc0fe1d85188e792860</td>\n",
       "      <td>False</td>\n",
       "      <td>0.000</td>\n",
       "      <td>8.0</td>\n",
       "      <td>3</td>\n",
       "      <td>0.8869</td>\n",
       "      <td>0.93</td>\n",
       "      <td>0.96</td>\n",
       "      <td>5.00</td>\n",
       "      <td>2.820</td>\n",
       "      <td>3</td>\n",
       "      <td>1.0</td>\n",
       "      <td>61.376928</td>\n",
       "    </tr>\n",
       "  </tbody>\n",
       "</table>\n",
       "</div>"
      ],
      "text/plain": [
       "                            order_id  on_demand     KG    UN  new_seniority  \\\n",
       "9   f629881954df817b768c981ad52c56ce       True  2.664  65.0              1   \n",
       "11  4d322b65c5ff3c0ab5a68661fe499c33       True  0.000  54.0              3   \n",
       "14  7ebab6283d87c169291afd709bd9b4d7      False  0.000  74.0              3   \n",
       "16  123bb583303cacd65ae42cd85bdf7694      False  0.000  23.0              3   \n",
       "24  f4b7a5bbd3582dc0fe1d85188e792860      False  0.000   8.0              3   \n",
       "\n",
       "    found_rate  picking_speed  accepted_rate  rating  distance_km  tramo_dia  \\\n",
       "9       0.8671           2.50           1.00    5.00        0.915          3   \n",
       "11      0.8740           1.21           1.00    4.80        1.032          4   \n",
       "14      0.8827           1.50           1.00    4.44        4.099          3   \n",
       "16      0.8447           1.41           0.88    4.92        1.799          3   \n",
       "24      0.8869           0.93           0.96    5.00        2.820          3   \n",
       "\n",
       "    new_store_id  prediction  \n",
       "9            1.0  110.516058  \n",
       "11           1.0   62.711290  \n",
       "14           1.0  104.166374  \n",
       "16           1.0   74.679683  \n",
       "24           1.0   61.376928  "
      ]
     },
     "execution_count": 291,
     "metadata": {},
     "output_type": "execute_result"
    }
   ],
   "source": [
    "make_pred_2 = norm.fit_transform(make_pred.iloc[:,1:])\n",
    "y_pred_r = svr_model.predict(make_pred_2)\n",
    "\n",
    "make_pred['prediction'] = y_pred_r\n",
    "make_pred.head()"
   ]
  },
  {
   "cell_type": "code",
   "execution_count": 292,
   "metadata": {},
   "outputs": [],
   "source": [
    "pred = make_pred[['order_id','prediction']]\n",
    "pred.to_csv('final_predictions.csv')"
   ]
  }
 ],
 "metadata": {
  "kernelspec": {
   "display_name": "Python 3",
   "language": "python",
   "name": "python3"
  },
  "language_info": {
   "codemirror_mode": {
    "name": "ipython",
    "version": 3
   },
   "file_extension": ".py",
   "mimetype": "text/x-python",
   "name": "python",
   "nbconvert_exporter": "python",
   "pygments_lexer": "ipython3",
   "version": "3.6.9"
  }
 },
 "nbformat": 4,
 "nbformat_minor": 4
}
